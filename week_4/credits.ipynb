{
  "nbformat": 4,
  "nbformat_minor": 0,
  "metadata": {
    "colab": {
      "name": "credits.ipynb",
      "provenance": []
    },
    "kernelspec": {
      "name": "python3",
      "display_name": "Python 3"
    },
    "accelerator": "GPU"
  },
  "cells": [
    {
      "cell_type": "code",
      "metadata": {
        "id": "LDdSpmyFBhnA",
        "colab_type": "code",
        "colab": {
          "base_uri": "https://localhost:8080/",
          "height": 51
        },
        "outputId": "32d8a079-3276-4f4f-93dd-ce6bcc95275f"
      },
      "source": [
        "import numpy as np\n",
        "import pandas as pd\n",
        "import matplotlib.pyplot as plt\n",
        "import seaborn as sns\n",
        "sns.set_style('whitegrid')\n",
        "import scipy\n",
        "from scipy import stats\n",
        "\n",
        "import warnings\n",
        "warnings.simplefilter(action='ignore')\n",
        "\n",
        "# use this code to show all columns\n",
        "pd.set_option('display.max_columns', None)\n",
        "pd.set_option('display.max_rows', None)"
      ],
      "execution_count": 1,
      "outputs": [
        {
          "output_type": "stream",
          "text": [
            "/usr/local/lib/python3.6/dist-packages/statsmodels/tools/_testing.py:19: FutureWarning: pandas.util.testing is deprecated. Use the functions in the public API at pandas.testing instead.\n",
            "  import pandas.util.testing as tm\n"
          ],
          "name": "stderr"
        }
      ]
    },
    {
      "cell_type": "code",
      "metadata": {
        "id": "pkTRA5l2MuXB",
        "colab_type": "code",
        "colab": {
          "base_uri": "https://localhost:8080/",
          "height": 34
        },
        "outputId": "4af3cd2e-a31c-4059-bdc9-0a7c4d2d121b"
      },
      "source": [
        "%pylab inline"
      ],
      "execution_count": 2,
      "outputs": [
        {
          "output_type": "stream",
          "text": [
            "Populating the interactive namespace from numpy and matplotlib\n"
          ],
          "name": "stdout"
        }
      ]
    },
    {
      "cell_type": "markdown",
      "metadata": {
        "id": "IpKHObyjNlUe",
        "colab_type": "text"
      },
      "source": [
        "**This notebook in Russian language, becase it for russian course.**\n",
        "\n",
        "\n"
      ]
    },
    {
      "cell_type": "markdown",
      "metadata": {
        "id": "iRoWCviTNSSc",
        "colab_type": "text"
      },
      "source": [
        "# Посмотрим на данные:\n",
        "\n",
        "столбцы имеют следующие значения:\n",
        "\n",
        "* LIMIT_BAL: размер кредитного лимита (в том числе и на семью клиента)\n",
        "* SEX: пол клиента (1 = мужской, 2 = женский )\n",
        "* EDUCATION: образование (0 = доктор, 1 = магистр; 2 = бакалавр; 3 = выпускник школы; 4 = начальное образование; 5= прочее; 6 = нет данных ).\n",
        "* MARRIAGE: (0 = отказываюсь отвечать; 1 = замужем/женат; 2 = холост; 3 = нет данных).\n",
        "* AGE: возраст в годах\n",
        "* PAY_0 - PAY_6 : История прошлых платежей по кредиту. PAY_6 - платеж в апреле, ... Pay_0 - платеж в сентябре. Платеж = (0 = исправный платеж, 1=задержка в один месяц, 2=задержка в 2 месяца ...)\n",
        "* BILL_AMT1 - BILL_AMT6: задолженность, BILL_AMT6 - на апрель, BILL_AMT1 - на сентябрь\n",
        "* PAY_AMT1 - PAY_AMT6: сумма уплаченная в PAY_AMT6 - апреле, ..., PAY_AMT1 - сентябре\n",
        "* default - индикатор невозврата денежных средств"
      ]
    },
    {
      "cell_type": "code",
      "metadata": {
        "id": "AaUuGIpvM5Aa",
        "colab_type": "code",
        "colab": {
          "base_uri": "https://localhost:8080/",
          "height": 224
        },
        "outputId": "3a05ee8f-aa5a-438a-e292-66abb4027837"
      },
      "source": [
        "data = pd.read_csv(\"credit_card_default_analysis.csv\")\n",
        "data.head()"
      ],
      "execution_count": 4,
      "outputs": [
        {
          "output_type": "execute_result",
          "data": {
            "text/html": [
              "<div>\n",
              "<style scoped>\n",
              "    .dataframe tbody tr th:only-of-type {\n",
              "        vertical-align: middle;\n",
              "    }\n",
              "\n",
              "    .dataframe tbody tr th {\n",
              "        vertical-align: top;\n",
              "    }\n",
              "\n",
              "    .dataframe thead th {\n",
              "        text-align: right;\n",
              "    }\n",
              "</style>\n",
              "<table border=\"1\" class=\"dataframe\">\n",
              "  <thead>\n",
              "    <tr style=\"text-align: right;\">\n",
              "      <th></th>\n",
              "      <th>ID</th>\n",
              "      <th>LIMIT_BAL</th>\n",
              "      <th>SEX</th>\n",
              "      <th>EDUCATION</th>\n",
              "      <th>MARRIAGE</th>\n",
              "      <th>AGE</th>\n",
              "      <th>PAY_0</th>\n",
              "      <th>PAY_2</th>\n",
              "      <th>PAY_3</th>\n",
              "      <th>PAY_4</th>\n",
              "      <th>PAY_5</th>\n",
              "      <th>PAY_6</th>\n",
              "      <th>BILL_AMT1</th>\n",
              "      <th>BILL_AMT2</th>\n",
              "      <th>BILL_AMT3</th>\n",
              "      <th>BILL_AMT4</th>\n",
              "      <th>BILL_AMT5</th>\n",
              "      <th>BILL_AMT6</th>\n",
              "      <th>PAY_AMT1</th>\n",
              "      <th>PAY_AMT2</th>\n",
              "      <th>PAY_AMT3</th>\n",
              "      <th>PAY_AMT4</th>\n",
              "      <th>PAY_AMT5</th>\n",
              "      <th>PAY_AMT6</th>\n",
              "      <th>default</th>\n",
              "    </tr>\n",
              "  </thead>\n",
              "  <tbody>\n",
              "    <tr>\n",
              "      <th>0</th>\n",
              "      <td>1</td>\n",
              "      <td>20000</td>\n",
              "      <td>2</td>\n",
              "      <td>2</td>\n",
              "      <td>1</td>\n",
              "      <td>24</td>\n",
              "      <td>2</td>\n",
              "      <td>2</td>\n",
              "      <td>0</td>\n",
              "      <td>0</td>\n",
              "      <td>0</td>\n",
              "      <td>0</td>\n",
              "      <td>3913</td>\n",
              "      <td>3102</td>\n",
              "      <td>689</td>\n",
              "      <td>0</td>\n",
              "      <td>0</td>\n",
              "      <td>0</td>\n",
              "      <td>0</td>\n",
              "      <td>689</td>\n",
              "      <td>0</td>\n",
              "      <td>0</td>\n",
              "      <td>0</td>\n",
              "      <td>0</td>\n",
              "      <td>1</td>\n",
              "    </tr>\n",
              "    <tr>\n",
              "      <th>1</th>\n",
              "      <td>2</td>\n",
              "      <td>120000</td>\n",
              "      <td>2</td>\n",
              "      <td>2</td>\n",
              "      <td>2</td>\n",
              "      <td>26</td>\n",
              "      <td>0</td>\n",
              "      <td>2</td>\n",
              "      <td>0</td>\n",
              "      <td>0</td>\n",
              "      <td>0</td>\n",
              "      <td>2</td>\n",
              "      <td>2682</td>\n",
              "      <td>1725</td>\n",
              "      <td>2682</td>\n",
              "      <td>3272</td>\n",
              "      <td>3455</td>\n",
              "      <td>3261</td>\n",
              "      <td>0</td>\n",
              "      <td>1000</td>\n",
              "      <td>1000</td>\n",
              "      <td>1000</td>\n",
              "      <td>0</td>\n",
              "      <td>2000</td>\n",
              "      <td>1</td>\n",
              "    </tr>\n",
              "    <tr>\n",
              "      <th>2</th>\n",
              "      <td>3</td>\n",
              "      <td>90000</td>\n",
              "      <td>2</td>\n",
              "      <td>2</td>\n",
              "      <td>2</td>\n",
              "      <td>34</td>\n",
              "      <td>0</td>\n",
              "      <td>0</td>\n",
              "      <td>0</td>\n",
              "      <td>0</td>\n",
              "      <td>0</td>\n",
              "      <td>0</td>\n",
              "      <td>29239</td>\n",
              "      <td>14027</td>\n",
              "      <td>13559</td>\n",
              "      <td>14331</td>\n",
              "      <td>14948</td>\n",
              "      <td>15549</td>\n",
              "      <td>1518</td>\n",
              "      <td>1500</td>\n",
              "      <td>1000</td>\n",
              "      <td>1000</td>\n",
              "      <td>1000</td>\n",
              "      <td>5000</td>\n",
              "      <td>0</td>\n",
              "    </tr>\n",
              "    <tr>\n",
              "      <th>3</th>\n",
              "      <td>4</td>\n",
              "      <td>50000</td>\n",
              "      <td>2</td>\n",
              "      <td>2</td>\n",
              "      <td>1</td>\n",
              "      <td>37</td>\n",
              "      <td>0</td>\n",
              "      <td>0</td>\n",
              "      <td>0</td>\n",
              "      <td>0</td>\n",
              "      <td>0</td>\n",
              "      <td>0</td>\n",
              "      <td>46990</td>\n",
              "      <td>48233</td>\n",
              "      <td>49291</td>\n",
              "      <td>28314</td>\n",
              "      <td>28959</td>\n",
              "      <td>29547</td>\n",
              "      <td>2000</td>\n",
              "      <td>2019</td>\n",
              "      <td>1200</td>\n",
              "      <td>1100</td>\n",
              "      <td>1069</td>\n",
              "      <td>1000</td>\n",
              "      <td>0</td>\n",
              "    </tr>\n",
              "    <tr>\n",
              "      <th>4</th>\n",
              "      <td>5</td>\n",
              "      <td>50000</td>\n",
              "      <td>1</td>\n",
              "      <td>2</td>\n",
              "      <td>1</td>\n",
              "      <td>57</td>\n",
              "      <td>0</td>\n",
              "      <td>0</td>\n",
              "      <td>0</td>\n",
              "      <td>0</td>\n",
              "      <td>0</td>\n",
              "      <td>0</td>\n",
              "      <td>8617</td>\n",
              "      <td>5670</td>\n",
              "      <td>35835</td>\n",
              "      <td>20940</td>\n",
              "      <td>19146</td>\n",
              "      <td>19131</td>\n",
              "      <td>2000</td>\n",
              "      <td>36681</td>\n",
              "      <td>10000</td>\n",
              "      <td>9000</td>\n",
              "      <td>689</td>\n",
              "      <td>679</td>\n",
              "      <td>0</td>\n",
              "    </tr>\n",
              "  </tbody>\n",
              "</table>\n",
              "</div>"
            ],
            "text/plain": [
              "   ID  LIMIT_BAL  SEX  EDUCATION  MARRIAGE  AGE  PAY_0  PAY_2  PAY_3  PAY_4  \\\n",
              "0   1      20000    2          2         1   24      2      2      0      0   \n",
              "1   2     120000    2          2         2   26      0      2      0      0   \n",
              "2   3      90000    2          2         2   34      0      0      0      0   \n",
              "3   4      50000    2          2         1   37      0      0      0      0   \n",
              "4   5      50000    1          2         1   57      0      0      0      0   \n",
              "\n",
              "   PAY_5  PAY_6  BILL_AMT1  BILL_AMT2  BILL_AMT3  BILL_AMT4  BILL_AMT5  \\\n",
              "0      0      0       3913       3102        689          0          0   \n",
              "1      0      2       2682       1725       2682       3272       3455   \n",
              "2      0      0      29239      14027      13559      14331      14948   \n",
              "3      0      0      46990      48233      49291      28314      28959   \n",
              "4      0      0       8617       5670      35835      20940      19146   \n",
              "\n",
              "   BILL_AMT6  PAY_AMT1  PAY_AMT2  PAY_AMT3  PAY_AMT4  PAY_AMT5  PAY_AMT6  \\\n",
              "0          0         0       689         0         0         0         0   \n",
              "1       3261         0      1000      1000      1000         0      2000   \n",
              "2      15549      1518      1500      1000      1000      1000      5000   \n",
              "3      29547      2000      2019      1200      1100      1069      1000   \n",
              "4      19131      2000     36681     10000      9000       689       679   \n",
              "\n",
              "   default  \n",
              "0        1  \n",
              "1        1  \n",
              "2        0  \n",
              "3        0  \n",
              "4        0  "
            ]
          },
          "metadata": {
            "tags": []
          },
          "execution_count": 4
        }
      ]
    },
    {
      "cell_type": "markdown",
      "metadata": {
        "id": "r9h2d-5Mo6p0",
        "colab_type": "text"
      },
      "source": [
        "# Первая задача. Размер кредитного лимита (LIMIT_BAL)\n",
        "\n",
        " В двух группах, тех людей, кто вернул кредит (default = 0) и тех, кто его не вернул (default = 1) проверьте гипотезы: \n",
        "* a) о равенстве медианных значений кредитного лимита с помощью подходящей интервальной оценки \n",
        "* b) о равенстве распределений с помощью одного из подходящих непараметрических критериев проверки равенства средних. Значимы ли полученные результаты с практической точки зрения ?"
      ]
    },
    {
      "cell_type": "code",
      "metadata": {
        "id": "KwUlIKzgNNz2",
        "colab_type": "code",
        "colab": {}
      },
      "source": [
        "repayment = data[data.default == 0]\n",
        "loan = data[data.default == 1]"
      ],
      "execution_count": 5,
      "outputs": []
    },
    {
      "cell_type": "code",
      "metadata": {
        "id": "foBa_2LZpgwX",
        "colab_type": "code",
        "colab": {
          "base_uri": "https://localhost:8080/",
          "height": 346
        },
        "outputId": "ec5f45d1-a6f5-4b74-a994-61efda5a783a"
      },
      "source": [
        "pylab.figure(figsize(16, 4))\n",
        "pylab.subplot(1,2,1)\n",
        "repayment.LIMIT_BAL.hist(color='lightskyblue', bins = 50, range = (0, 1000000))\n",
        "pylab.xlabel(u'Размер кредитного лимита (в том числе и на семью клиента), руб')\n",
        "pylab.ylabel(u'Всего выдано кредитов, шт.')\n",
        "plt.title(u'Кредиты, в которых нет просрочек по возврату')\n",
        "pylab.legend()\n",
        "\n",
        "pylab.subplot(1,2,2)\n",
        "loan.LIMIT_BAL.hist(color='lightcoral', bins = 50, range = (0, 1000000))\n",
        "pylab.xlabel(u'Размер кредитного лимита (в том числе и на семью клиента), руб')\n",
        "pylab.ylabel(u'Всего выдано кредитов, шт.')\n",
        "plt.title(u'Кредиты, в которых есть просрочки по возврату')\n",
        "pylab.legend()"
      ],
      "execution_count": 6,
      "outputs": [
        {
          "output_type": "stream",
          "text": [
            "No handles with labels found to put in legend.\n",
            "No handles with labels found to put in legend.\n"
          ],
          "name": "stderr"
        },
        {
          "output_type": "execute_result",
          "data": {
            "text/plain": [
              "<matplotlib.legend.Legend at 0x7f8441f3ef98>"
            ]
          },
          "metadata": {
            "tags": []
          },
          "execution_count": 6
        },
        {
          "output_type": "display_data",
          "data": {
            "image/png": "[encoded data removed]",
            "text/plain": [
              "<Figure size 1152x288 with 2 Axes>"
            ]
          },
          "metadata": {
            "tags": [],
            "needs_background": "light"
          }
        }
      ]
    },
    {
      "cell_type": "markdown",
      "metadata": {
        "id": "oeN-W3VZpzqA",
        "colab_type": "text"
      },
      "source": [
        "**Равны ли медианы значений кредитного лимита в обоих группах?**\n",
        "\n",
        "Проверим равенство медианных значений.\n",
        "Для этого используем бутстреп, так как он не делает никаких предположений о распределении в выборке."
      ]
    },
    {
      "cell_type": "code",
      "metadata": {
        "id": "2vEfYIQTpyoj",
        "colab_type": "code",
        "colab": {}
      },
      "source": [
        "def stat_intervals(stat, alpha=0.05):\n",
        "    boundaries = np.percentile(stat, [100 * alpha / 2., 100 * (1 - alpha / 2.)])\n",
        "    return boundaries\n",
        "\n",
        "def get_bootstrap_samples(data, n_samples):\n",
        "    indices = np.random.randint(0, len(data), (n_samples, len(data)))\n",
        "    samples = data[indices]\n",
        "    return samples"
      ],
      "execution_count": 7,
      "outputs": []
    },
    {
      "cell_type": "code",
      "metadata": {
        "id": "gMahY86kqBwB",
        "colab_type": "code",
        "colab": {}
      },
      "source": [
        "np.random.seed(0)\n",
        "\n",
        "repayments_median = list(map(np.median, get_bootstrap_samples(repayment.LIMIT_BAL.values, 1000)))\n",
        "loans_median  = list(map(np.median, get_bootstrap_samples(loan.LIMIT_BAL.values, 1000)))"
      ],
      "execution_count": 11,
      "outputs": []
    },
    {
      "cell_type": "code",
      "metadata": {
        "id": "dO9fjkWrqLbs",
        "colab_type": "code",
        "colab": {}
      },
      "source": [
        "delta_median = list(map(lambda x: x[1] - x[0], zip(loans_median, repayments_median)))"
      ],
      "execution_count": 12,
      "outputs": []
    },
    {
      "cell_type": "code",
      "metadata": {
        "id": "GQrfZotlqNbj",
        "colab_type": "code",
        "colab": {
          "base_uri": "https://localhost:8080/",
          "height": 68
        },
        "outputId": "d19b4ece-12e6-453a-cadd-dd80967a0c16"
      },
      "source": [
        "print (\"95% доверительный интервал для медианы кредитов, в которых нет просрочек:\",  stat_intervals(repayments_median, 0.05))\n",
        "print (\"95% доверительный интервал для медианы кредитов, в которых есть просрочки по возврату:\",  stat_intervals(loans_median, 0.05))\n",
        "print (\"95% доверительный интервал для разности медиан:\",  stat_intervals(delta_median, 0.05))"
      ],
      "execution_count": 13,
      "outputs": [
        {
          "output_type": "stream",
          "text": [
            "95% доверительный интервал для медианы кредитов, в которых нет просрочек: [150000. 150000.]\n",
            "95% доверительный интервал для медианы кредитов, в которых есть просрочки по возврату: [80000. 90000.]\n",
            "95% доверительный интервал для разности медиан: [60000. 70000.]\n"
          ],
          "name": "stdout"
        }
      ]
    },
    {
      "cell_type": "markdown",
      "metadata": {
        "id": "V6pC-N5Wqe6p",
        "colab_type": "text"
      },
      "source": [
        "\n",
        "**Вывод:** интервалы для медиан лимитов отличаются (разницы не содержат 0). Поэтому гипотезу о равенстве медиан отвергаем.\n",
        "\n"
      ]
    },
    {
      "cell_type": "markdown",
      "metadata": {
        "id": "G8iyhmjoqsYk",
        "colab_type": "text"
      },
      "source": [
        "**Равны ли распределения в обоих группах?**\n",
        "\n",
        "Используем перестановочный критерий для независимых выборок.\n"
      ]
    },
    {
      "cell_type": "code",
      "metadata": {
        "id": "OXfYDNSOqec9",
        "colab_type": "code",
        "colab": {
          "base_uri": "https://localhost:8080/",
          "height": 34
        },
        "outputId": "5779003e-b310-412c-ba32-b1756233ce1a"
      },
      "source": [
        "def permutation_t_stat_ind(sample1, sample2):\n",
        "    return np.mean(sample1) - np.mean(sample2)\n",
        "\n",
        "def get_random_combinations(n1, n2, max_combinations):\n",
        "    index = list(range(n1 + n2))\n",
        "    indices = set([tuple(index)])\n",
        "    for i in (range(max_combinations - 1)):\n",
        "        np.random.shuffle(index)\n",
        "        indices.add(tuple(index))\n",
        "    return [(index[:n1], index[n1:]) for index in indices]\n",
        "\n",
        "def permutation_zero_dist_ind(sample1, sample2, max_combinations = None):\n",
        "    joined_sample = np.hstack((sample1, sample2))\n",
        "    n1 = len(sample1)\n",
        "    n = len(joined_sample)\n",
        "    \n",
        "    if max_combinations:\n",
        "        indices = get_random_combinations(n1, len(sample2), max_combinations)\n",
        "    else:\n",
        "        indices = [(list(index), filter(lambda i: i not in index, range(n))) \\\n",
        "                    for index in itertools.combinations(range(n), n1)]\n",
        "    \n",
        "    distr = [joined_sample[list(i[0])].mean() - joined_sample[list(i[1])].mean() \\\n",
        "             for i in indices]\n",
        "    return distr\n",
        "\n",
        "def permutation_test(sample, mean, max_permutations = None, alternative = 'two-sided'):\n",
        "    if alternative not in ('two-sided', 'less', 'greater'):\n",
        "        raise ValueError(\"alternative not recognized\\n\"\n",
        "                         \"should be 'two-sided', 'less' or 'greater'\")\n",
        "    \n",
        "    t_stat = permutation_t_stat_ind(sample, mean)\n",
        "    \n",
        "    zero_distr = permutation_zero_dist_ind(sample, mean, max_permutations)\n",
        "    \n",
        "    if alternative == 'two-sided':\n",
        "        return sum([1. if abs(x) >= abs(t_stat) else 0. for x in zero_distr]) / len(zero_distr)\n",
        "    \n",
        "    if alternative == 'less':\n",
        "        return sum([1. if x <= t_stat else 0. for x in zero_distr]) / len(zero_distr)\n",
        "\n",
        "    if alternative == 'greater':\n",
        "        return sum([1. if x >= t_stat else 0. for x in zero_distr]) / len(zero_distr)\n",
        "\n",
        "print (\"p-value: %f\" % permutation_test(repayment.LIMIT_BAL.values, loan.LIMIT_BAL.values, max_permutations = 5000))"
      ],
      "execution_count": 16,
      "outputs": [
        {
          "output_type": "stream",
          "text": [
            "p-value: 0.000200\n"
          ],
          "name": "stdout"
        }
      ]
    },
    {
      "cell_type": "markdown",
      "metadata": {
        "id": "Qy3Y21FrrVNC",
        "colab_type": "text"
      },
      "source": [
        "p-value имеет довольно низкое значение, значит, **гипотезу о равенстве распределений можно отвергнуть.**\n",
        "\n",
        "**Общий вывод для первого задания:** признак LIMIT_BAL значим."
      ]
    },
    {
      "cell_type": "markdown",
      "metadata": {
        "id": "mGKWi-QMrVDb",
        "colab_type": "text"
      },
      "source": [
        "# Второе задание. Пол (SEX)\n",
        "\n",
        "Проверьте гипотезу о том, что гендерный состав группы людей вернувших и не вернувших кредит отличается. Хорошо, если вы предоставите несколько различных решений этой задачи (с помощью доверительного интервала и подходящего статистического критерия)"
      ]
    },
    {
      "cell_type": "markdown",
      "metadata": {
        "id": "KZG4aseHrynT",
        "colab_type": "text"
      },
      "source": [
        "Проверим гипотезу о том, что гендерный состав группы людей вернувших и не вернувших кредит отличается.\n",
        "\n",
        "Во-первых, нужно посмотреть как распределены кредиты между мужчинами и женщинами. \n",
        "\n",
        "Во-вторых, исследуем \"возвращаемость\" кредитов в разрезе пола."
      ]
    },
    {
      "cell_type": "code",
      "metadata": {
        "id": "5Bossmmiru3Q",
        "colab_type": "code",
        "colab": {}
      },
      "source": [
        "dataFromMens = data[data['SEX'] == 1]\n",
        "dataFromWomans = data[data['SEX'] == 2]\n",
        "\n",
        "quntityRepaymentsFromMens = len(dataFromMens[dataFromMens['default'] == 0])\n",
        "quntityLoansFromMens = len(dataFromMens[dataFromMens['default'] == 1])\n",
        "quntityRepaymentsFromWomens = len(dataFromWomans[dataFromWomans['default'] == 0])\n",
        "quntityLoansFromWomens = len(dataFromWomans[dataFromWomans['default'] == 1])\n",
        "\n",
        "N = 2\n",
        "repaymentsFromMensWomans = (quntityRepaymentsFromMens, quntityRepaymentsFromWomens)\n",
        "loansFromMensWomans = (quntityLoansFromMens, quntityLoansFromWomens)\n",
        "\n",
        "ind = np.arange(N)    \n",
        "width = 0.35"
      ],
      "execution_count": 17,
      "outputs": []
    },
    {
      "cell_type": "code",
      "metadata": {
        "id": "TsOe1TchsIW0",
        "colab_type": "code",
        "colab": {
          "base_uri": "https://localhost:8080/",
          "height": 281
        },
        "outputId": "66c88486-8a34-4e06-a7a4-b843a0468125"
      },
      "source": [
        "plt.figure(figsize(16,4))\n",
        "\n",
        "sns.set_style(\"white\")\n",
        "\n",
        "sns.barplot(x = ind, y = repaymentsFromMensWomans, color = \"lightcoral\")\n",
        "sns.barplot(x = ind, y = loansFromMensWomans, color = \"lightskyblue\", bottom=repaymentsFromMensWomans)\n",
        "\n",
        "bar1 = plt.Rectangle((0,0),1,1,fc=\"lightskyblue\", edgecolor = 'none')\n",
        "bar2 = plt.Rectangle((0,0),1,1,fc='lightcoral',  edgecolor = 'none')\n",
        "l = plt.legend([bar1, bar2], [u'Кредиты, в которых есть просрочки по возврату', u'Кредиты, в которых нет просрочек по возврату'], loc=1, ncol = 2, prop={'size':10})\n",
        "plt.title(u'Кредиты, взависимости от пола')\n",
        "plt.xticks(ind, (u'Мужчины', u'Женщины'))\n",
        "plt.ylabel(u'Всего выдано кредитов, шт.')\n",
        "plt.grid(True)"
      ],
      "execution_count": 18,
      "outputs": [
        {
          "output_type": "display_data",
          "data": {
            "image/png": "[encoded data removed]",
            "text/plain": [
              "<Figure size 1152x288 with 1 Axes>"
            ]
          },
          "metadata": {
            "tags": [],
            "needs_background": "light"
          }
        }
      ]
    },
    {
      "cell_type": "markdown",
      "metadata": {
        "id": "V3YDZASbsPjN",
        "colab_type": "text"
      },
      "source": [
        "Проверка гипотезы сводится к проверке следующих утверждений:\n",
        "\n",
        "$H_0\\colon p_1 = p_2$ - доли одинаковы\n",
        "\n",
        "$H_1\\colon p_1 \\neq\\ p_2$ - доли разные\n",
        "\n",
        "Воспользуемся Z-критерием для разности долей в независимых выборках."
      ]
    },
    {
      "cell_type": "code",
      "metadata": {
        "id": "HVT7XZ7OsNek",
        "colab_type": "code",
        "colab": {}
      },
      "source": [
        "def proportions_diff_confint_ind(sample1, sample2, alpha = 0.05):    \n",
        "    z = scipy.stats.norm.ppf(1 - alpha / 2.)\n",
        "    \n",
        "    p1 = float(sum(sample1)) / len(sample1)\n",
        "    p2 = float(sum(sample2)) / len(sample2)\n",
        "    \n",
        "    left_boundary = (p1 - p2) - z * np.sqrt(p1 * (1 - p1)/ len(sample1) + p2 * (1 - p2)/ len(sample2))\n",
        "    right_boundary = (p1 - p2) + z * np.sqrt(p1 * (1 - p1)/ len(sample1) + p2 * (1 - p2)/ len(sample2))\n",
        "    \n",
        "    return (left_boundary, right_boundary)\n",
        "\n",
        "def proportions_diff_z_stat_ind(sample1, sample2):\n",
        "    n1 = len(sample1)\n",
        "    n2 = len(sample2)\n",
        "    \n",
        "    p1 = float(sum(sample1)) / n1\n",
        "    p2 = float(sum(sample2)) / n2 \n",
        "    P = float(p1*n1 + p2*n2) / (n1 + n2)\n",
        "    \n",
        "    return (p1 - p2) / np.sqrt(P * (1 - P) * (1. / n1 + 1. / n2))\n",
        "\n",
        "def proportions_diff_z_test(z_stat, alternative = 'two-sided'):\n",
        "    if alternative not in ('two-sided', 'less', 'greater'):\n",
        "        raise ValueError(\"alternative not recognized\\n\"\n",
        "                         \"should be 'two-sided', 'less' or 'greater'\")\n",
        "    \n",
        "    if alternative == 'two-sided':\n",
        "        return 2 * (1 - scipy.stats.norm.cdf(np.abs(z_stat)))\n",
        "    \n",
        "    if alternative == 'less':\n",
        "        return scipy.stats.norm.cdf(z_stat)\n",
        "\n",
        "    if alternative == 'greater':\n",
        "        return 1 - scipy.stats.norm.cdf(z_stat)"
      ],
      "execution_count": 23,
      "outputs": []
    },
    {
      "cell_type": "code",
      "metadata": {
        "id": "bzBtI0Fysjjh",
        "colab_type": "code",
        "colab": {}
      },
      "source": [
        "mensList = data[data.SEX == 1].default.tolist()\n",
        "womansList = data[data.SEX == 2].default.tolist()"
      ],
      "execution_count": 24,
      "outputs": []
    },
    {
      "cell_type": "code",
      "metadata": {
        "id": "-zt-M7Yxslv0",
        "colab_type": "code",
        "colab": {
          "base_uri": "https://localhost:8080/",
          "height": 51
        },
        "outputId": "b6f2ad97-832e-4d0c-9c3b-330f1b7a4178"
      },
      "source": [
        "print (\"95%% доверительный интервал разницы долей (кредит без просрочек/кредит с просрочками) между мужчинами и женщинами: [%f, %f]\" %proportions_diff_confint_ind(mensList, womansList))\n",
        "print (\"p-value: \", proportions_diff_z_test(proportions_diff_z_stat_ind(mensList, womansList)))"
      ],
      "execution_count": 25,
      "outputs": [
        {
          "output_type": "stream",
          "text": [
            "95% доверительный интервал разницы долей (кредит без просрочек/кредит с просрочками) между мужчинами и женщинами: [0.024207, 0.043612]\n",
            "p-value:  4.472866521609831e-12\n"
          ],
          "name": "stdout"
        }
      ]
    },
    {
      "cell_type": "markdown",
      "metadata": {
        "id": "jaHYBJKssrah",
        "colab_type": "text"
      },
      "source": [
        "\n",
        "**Вывод:** доли (кредит без просрочек/кредит с просрочками) между мужчинами и женщинами статистически различаются (p-value < 0.05), но эта разница с практической точки зрения является маленькой (от 2,4% до 4,3%).\n",
        "\n",
        "Поэтому признак SEX при построение модели можно считать незначимым."
      ]
    },
    {
      "cell_type": "markdown",
      "metadata": {
        "id": "RHSK_evks4sk",
        "colab_type": "text"
      },
      "source": [
        "# Третье задание. Образование (EDUCATION)\n",
        "\n",
        " Проверьте гипотезу о том, что образование не влияет на то, вернет ли человек долг. Предложите способ наглядного представления разницы в ожидаемых и наблюдаемых значениях количества человек вернувших и не вернувших долг. Например, составьте таблицу сопряженности \"образование\" на \"возврат долга\", где значением ячейки была бы разность между наблюдаемым и ожидаемым количеством человек. \n",
        " * Как бы вы предложили модифицировать таблицу так, чтобы привести значения ячеек к одному масштабу не потеряв в интерпретируемости ? \n",
        " * Наличие какого образования является наилучшим индикатором того, что человек отдаст долг ? \n",
        " * наоборт, не отдаст долг ?"
      ]
    },
    {
      "cell_type": "code",
      "metadata": {
        "id": "OgMagrjXtaIJ",
        "colab_type": "code",
        "colab": {
          "base_uri": "https://localhost:8080/",
          "height": 474
        },
        "outputId": "84c13130-b58d-4b90-b70c-704cab5d18ed"
      },
      "source": [
        "sns.factorplot(x='EDUCATION', y='default',  data=data, kind=\"bar\", palette=\"pastel\", size = 6)\n",
        "plt.ylabel(u'Доля кредитов с просрочками')\n",
        "plt.xlabel(u'Тип образования')\n",
        "plt.title(u'Кредиты с просрочками, взависимости от образования')"
      ],
      "execution_count": 32,
      "outputs": [
        {
          "output_type": "execute_result",
          "data": {
            "text/plain": [
              "Text(0.5, 1.0, 'Кредиты с просрочками, взависимости от образования')"
            ]
          },
          "metadata": {
            "tags": []
          },
          "execution_count": 32
        },
        {
          "output_type": "display_data",
          "data": {
            "image/png": "[encoded data removed]",
            "text/plain": [
              "<Figure size 432x432 with 1 Axes>"
            ]
          },
          "metadata": {
            "tags": []
          }
        }
      ]
    },
    {
      "cell_type": "markdown",
      "metadata": {
        "id": "BBgnGPIYtgTf",
        "colab_type": "text"
      },
      "source": [
        "У докторов наук (EDUCATION=0) вообще нет просрочек по кредитам. Также небольшой процент невозврата у окончивших лишь начальную школу (EDUCATION=4) и указавших свое образование как \"другое\" (EDUCATION=5). Значительный высокий процент невозврата у окончивших школу (EDUCATION=3), получивших высшее образование бакалавров (EDUCATION=2) и тех, кто не указал свое образование (EDUCATION=6). **Поэтому необходимо считать признак EDUCATION как важным при построение модели.**\n",
        "\n",
        "Проверим, зависимы ли тип образования и наличие/отсутствие просрочек в оплате кредита. Для этого воспользуемся критерием хи-квадрат. \n",
        "\n",
        "*Нулевая гипотеза* $H_0$: подвыборки образования заемщиков вернувших и не вернувших кредит -- независимы;\n",
        "\n",
        "*Альтернативная* $H_a$: нулевая гипотеза неверна.\n",
        "\n",
        "Предварительно составим таблицу сопряженности для образования и возврата / не возврата кредита:"
      ]
    },
    {
      "cell_type": "code",
      "metadata": {
        "id": "5gRRhF2ttetc",
        "colab_type": "code",
        "colab": {
          "base_uri": "https://localhost:8080/",
          "height": 187
        },
        "outputId": "6784f71b-00d1-439c-ac8b-bc77e980ea73"
      },
      "source": [
        "tableEducationVSDefault = pd.DataFrame({u'Без просрочек': data[data['default'] == 0].EDUCATION.value_counts(), u'С просрочками': data[data['default'] == 1].EDUCATION.value_counts()})\n",
        "tableEducationVSDefault.iloc[0,1] = 0\n",
        "cmap = sns.diverging_palette(220, 10, as_cmap=True)\n",
        "table = tableEducationVSDefault.style.background_gradient(cmap=cmap)\n",
        "table"
      ],
      "execution_count": 27,
      "outputs": [
        {
          "output_type": "execute_result",
          "data": {
            "text/html": [
              "<style  type=\"text/css\" >\n",
              "    #T_86261b1e_fb46_11ea_960b_0242ac1c0002row0_col0 {\n",
              "            background-color:  #3f7f93;\n",
              "            color:  #000000;\n",
              "        }    #T_86261b1e_fb46_11ea_960b_0242ac1c0002row0_col1 {\n",
              "            background-color:  #3f7f93;\n",
              "            color:  #000000;\n",
              "        }    #T_86261b1e_fb46_11ea_960b_0242ac1c0002row1_col0 {\n",
              "            background-color:  #e8848b;\n",
              "            color:  #000000;\n",
              "        }    #T_86261b1e_fb46_11ea_960b_0242ac1c0002row1_col1 {\n",
              "            background-color:  #f5c9cc;\n",
              "            color:  #000000;\n",
              "        }    #T_86261b1e_fb46_11ea_960b_0242ac1c0002row2_col0 {\n",
              "            background-color:  #da3b46;\n",
              "            color:  #f1f1f1;\n",
              "        }    #T_86261b1e_fb46_11ea_960b_0242ac1c0002row2_col1 {\n",
              "            background-color:  #da3b46;\n",
              "            color:  #f1f1f1;\n",
              "        }    #T_86261b1e_fb46_11ea_960b_0242ac1c0002row3_col0 {\n",
              "            background-color:  #bbd3db;\n",
              "            color:  #000000;\n",
              "        }    #T_86261b1e_fb46_11ea_960b_0242ac1c0002row3_col1 {\n",
              "            background-color:  #c7dbe1;\n",
              "            color:  #000000;\n",
              "        }    #T_86261b1e_fb46_11ea_960b_0242ac1c0002row4_col0 {\n",
              "            background-color:  #428195;\n",
              "            color:  #000000;\n",
              "        }    #T_86261b1e_fb46_11ea_960b_0242ac1c0002row4_col1 {\n",
              "            background-color:  #3f7f93;\n",
              "            color:  #000000;\n",
              "        }    #T_86261b1e_fb46_11ea_960b_0242ac1c0002row5_col0 {\n",
              "            background-color:  #468497;\n",
              "            color:  #000000;\n",
              "        }    #T_86261b1e_fb46_11ea_960b_0242ac1c0002row5_col1 {\n",
              "            background-color:  #408094;\n",
              "            color:  #000000;\n",
              "        }    #T_86261b1e_fb46_11ea_960b_0242ac1c0002row6_col0 {\n",
              "            background-color:  #3f7f93;\n",
              "            color:  #000000;\n",
              "        }    #T_86261b1e_fb46_11ea_960b_0242ac1c0002row6_col1 {\n",
              "            background-color:  #3f7f93;\n",
              "            color:  #000000;\n",
              "        }</style><table id=\"T_86261b1e_fb46_11ea_960b_0242ac1c0002\" ><thead>    <tr>        <th class=\"blank level0\" ></th>        <th class=\"col_heading level0 col0\" >Без просрочек</th>        <th class=\"col_heading level0 col1\" >С просрочками</th>    </tr></thead><tbody>\n",
              "                <tr>\n",
              "                        <th id=\"T_86261b1e_fb46_11ea_960b_0242ac1c0002level0_row0\" class=\"row_heading level0 row0\" >0</th>\n",
              "                        <td id=\"T_86261b1e_fb46_11ea_960b_0242ac1c0002row0_col0\" class=\"data row0 col0\" >14</td>\n",
              "                        <td id=\"T_86261b1e_fb46_11ea_960b_0242ac1c0002row0_col1\" class=\"data row0 col1\" >0.000000</td>\n",
              "            </tr>\n",
              "            <tr>\n",
              "                        <th id=\"T_86261b1e_fb46_11ea_960b_0242ac1c0002level0_row1\" class=\"row_heading level0 row1\" >1</th>\n",
              "                        <td id=\"T_86261b1e_fb46_11ea_960b_0242ac1c0002row1_col0\" class=\"data row1 col0\" >8549</td>\n",
              "                        <td id=\"T_86261b1e_fb46_11ea_960b_0242ac1c0002row1_col1\" class=\"data row1 col1\" >2036.000000</td>\n",
              "            </tr>\n",
              "            <tr>\n",
              "                        <th id=\"T_86261b1e_fb46_11ea_960b_0242ac1c0002level0_row2\" class=\"row_heading level0 row2\" >2</th>\n",
              "                        <td id=\"T_86261b1e_fb46_11ea_960b_0242ac1c0002row2_col0\" class=\"data row2 col0\" >10700</td>\n",
              "                        <td id=\"T_86261b1e_fb46_11ea_960b_0242ac1c0002row2_col1\" class=\"data row2 col1\" >3330.000000</td>\n",
              "            </tr>\n",
              "            <tr>\n",
              "                        <th id=\"T_86261b1e_fb46_11ea_960b_0242ac1c0002level0_row3\" class=\"row_heading level0 row3\" >3</th>\n",
              "                        <td id=\"T_86261b1e_fb46_11ea_960b_0242ac1c0002row3_col0\" class=\"data row3 col0\" >3680</td>\n",
              "                        <td id=\"T_86261b1e_fb46_11ea_960b_0242ac1c0002row3_col1\" class=\"data row3 col1\" >1237.000000</td>\n",
              "            </tr>\n",
              "            <tr>\n",
              "                        <th id=\"T_86261b1e_fb46_11ea_960b_0242ac1c0002level0_row4\" class=\"row_heading level0 row4\" >4</th>\n",
              "                        <td id=\"T_86261b1e_fb46_11ea_960b_0242ac1c0002row4_col0\" class=\"data row4 col0\" >116</td>\n",
              "                        <td id=\"T_86261b1e_fb46_11ea_960b_0242ac1c0002row4_col1\" class=\"data row4 col1\" >7.000000</td>\n",
              "            </tr>\n",
              "            <tr>\n",
              "                        <th id=\"T_86261b1e_fb46_11ea_960b_0242ac1c0002level0_row5\" class=\"row_heading level0 row5\" >5</th>\n",
              "                        <td id=\"T_86261b1e_fb46_11ea_960b_0242ac1c0002row5_col0\" class=\"data row5 col0\" >262</td>\n",
              "                        <td id=\"T_86261b1e_fb46_11ea_960b_0242ac1c0002row5_col1\" class=\"data row5 col1\" >18.000000</td>\n",
              "            </tr>\n",
              "            <tr>\n",
              "                        <th id=\"T_86261b1e_fb46_11ea_960b_0242ac1c0002level0_row6\" class=\"row_heading level0 row6\" >6</th>\n",
              "                        <td id=\"T_86261b1e_fb46_11ea_960b_0242ac1c0002row6_col0\" class=\"data row6 col0\" >43</td>\n",
              "                        <td id=\"T_86261b1e_fb46_11ea_960b_0242ac1c0002row6_col1\" class=\"data row6 col1\" >8.000000</td>\n",
              "            </tr>\n",
              "    </tbody></table>"
            ],
            "text/plain": [
              "<pandas.io.formats.style.Styler at 0x7f8441745f98>"
            ]
          },
          "metadata": {
            "tags": []
          },
          "execution_count": 27
        }
      ]
    },
    {
      "cell_type": "code",
      "metadata": {
        "id": "oap5VYmpvLTA",
        "colab_type": "code",
        "colab": {
          "base_uri": "https://localhost:8080/",
          "height": 51
        },
        "outputId": "e5b28c04-c277-4834-e18c-a0016f88129e"
      },
      "source": [
        "def v_cramer(chi, n, shape):\n",
        "    return np.sqrt(chi/n/(min(shape[0], shape[1])-1))\n",
        "\n",
        "n = len(data) \n",
        "print (\"p-value: \", stats.chi2_contingency(tableEducationVSDefault, correction=False)[1])\n",
        "print ('v_cramer: ', v_cramer(stats.chi2_contingency(tableEducationVSDefault, correction=False)[0], n, tableEducationVSDefault.shape))"
      ],
      "execution_count": 29,
      "outputs": [
        {
          "output_type": "stream",
          "text": [
            "p-value:  1.2332626245415605e-32\n",
            "v_cramer:  0.07376009713252163\n"
          ],
          "name": "stdout"
        }
      ]
    },
    {
      "cell_type": "markdown",
      "metadata": {
        "id": "e49P6tYCvOkC",
        "colab_type": "text"
      },
      "source": [
        "**Выводы:** гипотеза о независимости образования и наличия/отсутствия просрочек в оплате кредита отвергается. Поэтому **признак EDUCATION является важным** при рассмотрении заявки на кредит."
      ]
    },
    {
      "cell_type": "markdown",
      "metadata": {
        "id": "U0fr61PPvTs_",
        "colab_type": "text"
      },
      "source": [
        "# Четвёртое задание. Семейное положение (MARRIAGE)\n",
        "\n",
        "Проверьте, как связан семейный статус с индикатором дефолта: нужно предложить меру, по которой можно измерить возможную связь этих переменных и посчитать ее значение."
      ]
    },
    {
      "cell_type": "code",
      "metadata": {
        "id": "7KWg4923vbVq",
        "colab_type": "code",
        "colab": {
          "base_uri": "https://localhost:8080/",
          "height": 474
        },
        "outputId": "ffea2585-2c60-4f24-f7bf-574a5e582ca1"
      },
      "source": [
        "sns.factorplot(x='MARRIAGE', y='default',  data=data, kind=\"bar\", palette=\"pastel\", size = 6)\n",
        "plt.ylabel(u'Доля кредитов с просрочками')\n",
        "plt.xlabel(u'Семейный статус')\n",
        "plt.title(u'Кредиты с просрочками, взависимости от семейного статуса')"
      ],
      "execution_count": 31,
      "outputs": [
        {
          "output_type": "execute_result",
          "data": {
            "text/plain": [
              "Text(0.5, 1.0, 'Кредиты с просрочками, взависимости от семейного статуса')"
            ]
          },
          "metadata": {
            "tags": []
          },
          "execution_count": 31
        },
        {
          "output_type": "display_data",
          "data": {
            "image/png": "[encoded data removed]",
            "text/plain": [
              "<Figure size 432x432 with 1 Axes>"
            ]
          },
          "metadata": {
            "tags": []
          }
        }
      ]
    },
    {
      "cell_type": "markdown",
      "metadata": {
        "id": "79cGr0gtvkDs",
        "colab_type": "text"
      },
      "source": [
        "Самая малая доля кредитов с просрочками у тех, кто отказался указывать свой семейный статус (MARRIAGE=0). У остальных категорий примерно одинаковые доли кредитов с просрочками (MARRIAGE=1 - состоит в браке; MARRIAGE=2 - холост; MARRIAGE=3 - нет данных). \n",
        "\n",
        "**Поэтому признак MARRIAGE необходимо считать как важный при построении модели.**"
      ]
    },
    {
      "cell_type": "code",
      "metadata": {
        "id": "i0osUrfLvqzT",
        "colab_type": "code",
        "colab": {
          "base_uri": "https://localhost:8080/",
          "height": 124
        },
        "outputId": "b4d630e5-8f84-46aa-f5c1-71cfa1f9b177"
      },
      "source": [
        "tableMarriageVSDefault = pd.DataFrame({u'Без просрочек': data[data['default'] == 0].MARRIAGE.value_counts(), u'С просрочками': data[data['default'] == 1].MARRIAGE.value_counts()})\n",
        "table = tableMarriageVSDefault.style.background_gradient(cmap=cmap)\n",
        "table"
      ],
      "execution_count": 33,
      "outputs": [
        {
          "output_type": "execute_result",
          "data": {
            "text/html": [
              "<style  type=\"text/css\" >\n",
              "    #T_e63b9b50_fb46_11ea_960b_0242ac1c0002row0_col0 {\n",
              "            background-color:  #da3b46;\n",
              "            color:  #f1f1f1;\n",
              "        }    #T_e63b9b50_fb46_11ea_960b_0242ac1c0002row0_col1 {\n",
              "            background-color:  #da3b46;\n",
              "            color:  #f1f1f1;\n",
              "        }    #T_e63b9b50_fb46_11ea_960b_0242ac1c0002row1_col0 {\n",
              "            background-color:  #e67a82;\n",
              "            color:  #000000;\n",
              "        }    #T_e63b9b50_fb46_11ea_960b_0242ac1c0002row1_col1 {\n",
              "            background-color:  #dc4853;\n",
              "            color:  #000000;\n",
              "        }    #T_e63b9b50_fb46_11ea_960b_0242ac1c0002row2_col0 {\n",
              "            background-color:  #438295;\n",
              "            color:  #000000;\n",
              "        }    #T_e63b9b50_fb46_11ea_960b_0242ac1c0002row2_col1 {\n",
              "            background-color:  #478598;\n",
              "            color:  #000000;\n",
              "        }    #T_e63b9b50_fb46_11ea_960b_0242ac1c0002row3_col0 {\n",
              "            background-color:  #3f7f93;\n",
              "            color:  #000000;\n",
              "        }    #T_e63b9b50_fb46_11ea_960b_0242ac1c0002row3_col1 {\n",
              "            background-color:  #3f7f93;\n",
              "            color:  #000000;\n",
              "        }</style><table id=\"T_e63b9b50_fb46_11ea_960b_0242ac1c0002\" ><thead>    <tr>        <th class=\"blank level0\" ></th>        <th class=\"col_heading level0 col0\" >Без просрочек</th>        <th class=\"col_heading level0 col1\" >С просрочками</th>    </tr></thead><tbody>\n",
              "                <tr>\n",
              "                        <th id=\"T_e63b9b50_fb46_11ea_960b_0242ac1c0002level0_row0\" class=\"row_heading level0 row0\" >2</th>\n",
              "                        <td id=\"T_e63b9b50_fb46_11ea_960b_0242ac1c0002row0_col0\" class=\"data row0 col0\" >12623</td>\n",
              "                        <td id=\"T_e63b9b50_fb46_11ea_960b_0242ac1c0002row0_col1\" class=\"data row0 col1\" >3341</td>\n",
              "            </tr>\n",
              "            <tr>\n",
              "                        <th id=\"T_e63b9b50_fb46_11ea_960b_0242ac1c0002level0_row1\" class=\"row_heading level0 row1\" >1</th>\n",
              "                        <td id=\"T_e63b9b50_fb46_11ea_960b_0242ac1c0002row1_col0\" class=\"data row1 col0\" >10453</td>\n",
              "                        <td id=\"T_e63b9b50_fb46_11ea_960b_0242ac1c0002row1_col1\" class=\"data row1 col1\" >3206</td>\n",
              "            </tr>\n",
              "            <tr>\n",
              "                        <th id=\"T_e63b9b50_fb46_11ea_960b_0242ac1c0002level0_row2\" class=\"row_heading level0 row2\" >3</th>\n",
              "                        <td id=\"T_e63b9b50_fb46_11ea_960b_0242ac1c0002row2_col0\" class=\"data row2 col0\" >239</td>\n",
              "                        <td id=\"T_e63b9b50_fb46_11ea_960b_0242ac1c0002row2_col1\" class=\"data row2 col1\" >84</td>\n",
              "            </tr>\n",
              "            <tr>\n",
              "                        <th id=\"T_e63b9b50_fb46_11ea_960b_0242ac1c0002level0_row3\" class=\"row_heading level0 row3\" >0</th>\n",
              "                        <td id=\"T_e63b9b50_fb46_11ea_960b_0242ac1c0002row3_col0\" class=\"data row3 col0\" >49</td>\n",
              "                        <td id=\"T_e63b9b50_fb46_11ea_960b_0242ac1c0002row3_col1\" class=\"data row3 col1\" >5</td>\n",
              "            </tr>\n",
              "    </tbody></table>"
            ],
            "text/plain": [
              "<pandas.io.formats.style.Styler at 0x7f843e8eb0f0>"
            ]
          },
          "metadata": {
            "tags": []
          },
          "execution_count": 33
        }
      ]
    },
    {
      "cell_type": "code",
      "metadata": {
        "id": "NtY3SKRIvyms",
        "colab_type": "code",
        "colab": {
          "base_uri": "https://localhost:8080/",
          "height": 51
        },
        "outputId": "4d352ad9-772c-4183-e883-6e6a35450f73"
      },
      "source": [
        "n = len(data) \n",
        "print( \"p-value: \", stats.chi2_contingency(tableMarriageVSDefault, correction=False)[1])\n",
        "print( 'v_cramer: ', v_cramer(stats.chi2_contingency(tableMarriageVSDefault, correction=False)[0], n, tableMarriageVSDefault.shape))"
      ],
      "execution_count": 35,
      "outputs": [
        {
          "output_type": "stream",
          "text": [
            "p-value:  8.825862457577375e-08\n",
            "v_cramer:  0.034478203662766466\n"
          ],
          "name": "stdout"
        }
      ]
    },
    {
      "cell_type": "markdown",
      "metadata": {
        "id": "fUtN22Div32e",
        "colab_type": "text"
      },
      "source": [
        "**Выводы:** гипотеза о независимости семейного статуса и наличия/отсутствия просрочек в оплате кредита отвергается. **Поэтому признак MARRIAGE является важным при рассмотрении заявки на кредит.**"
      ]
    },
    {
      "cell_type": "markdown",
      "metadata": {
        "id": "Y8uvTfxvv77E",
        "colab_type": "text"
      },
      "source": [
        "# Пятое задание. Возраст (AGE)\n",
        "\n",
        "Относительно двух групп людей вернувших и не вернувших кредит проверьте следующие гипотезы: \n",
        "* a) о равенстве медианных значений возрастов людей \n",
        "* b) о равенстве распределений с помощью одного из подходящих непараметрических критериев проверки равенства средних. \n",
        "\n",
        "Значимы ли полученные результаты с практической точки зрения ?"
      ]
    },
    {
      "cell_type": "code",
      "metadata": {
        "id": "jQGj-g74wEi2",
        "colab_type": "code",
        "colab": {
          "base_uri": "https://localhost:8080/",
          "height": 346
        },
        "outputId": "6887ba1c-f287-4df4-f973-2d63f58f088e"
      },
      "source": [
        "pylab.figure(figsize(16, 4))\n",
        "pylab.subplot(1,2,1)\n",
        "repayment.AGE.hist(color='lightskyblue', bins = 60, range = (20, 80))\n",
        "pylab.xlabel(u'Возраст, лет')\n",
        "pylab.ylabel(u'Всего выдано кредитов, шт.')\n",
        "plt.title(u'Кредиты, в которых нет просрочек по возврату')\n",
        "pylab.legend()\n",
        "\n",
        "pylab.subplot(1,2,2)\n",
        "loan.AGE.hist(color='lightcoral', bins = 60, range = (20, 80))\n",
        "pylab.xlabel(u'Возраст, лет')\n",
        "pylab.ylabel(u'Всего выдано кредитов, шт.')\n",
        "plt.title(u'Кредиты, в которых есть просрочки по возврату')\n",
        "pylab.legend()"
      ],
      "execution_count": 36,
      "outputs": [
        {
          "output_type": "stream",
          "text": [
            "No handles with labels found to put in legend.\n",
            "No handles with labels found to put in legend.\n"
          ],
          "name": "stderr"
        },
        {
          "output_type": "execute_result",
          "data": {
            "text/plain": [
              "<matplotlib.legend.Legend at 0x7f843e777b00>"
            ]
          },
          "metadata": {
            "tags": []
          },
          "execution_count": 36
        },
        {
          "output_type": "display_data",
          "data": {
            "image/png": "[encoded data removed]",
            "text/plain": [
              "<Figure size 1152x288 with 2 Axes>"
            ]
          },
          "metadata": {
            "tags": []
          }
        }
      ]
    },
    {
      "cell_type": "markdown",
      "metadata": {
        "id": "t40KbmjJwIrL",
        "colab_type": "text"
      },
      "source": [
        "**Исследуем равенство медиан.**"
      ]
    },
    {
      "cell_type": "code",
      "metadata": {
        "id": "tnnmocEZwHsy",
        "colab_type": "code",
        "colab": {}
      },
      "source": [
        "np.random.seed(0)\n",
        "\n",
        "repayments_median = list(map(np.median, get_bootstrap_samples(repayment.AGE.values, 1000)))\n",
        "loans_median  = list(map(np.median, get_bootstrap_samples(loan.AGE.values, 1000)))"
      ],
      "execution_count": 40,
      "outputs": []
    },
    {
      "cell_type": "code",
      "metadata": {
        "id": "G-2IOMU_wOKd",
        "colab_type": "code",
        "colab": {
          "base_uri": "https://localhost:8080/",
          "height": 68
        },
        "outputId": "e0efdf6b-f2ae-4bce-b81b-086f69f28ac7"
      },
      "source": [
        "delta_medianForAge = list(map(lambda x: x[1] - x[0], (zip(loans_median, repayments_median))))\n",
        "\n",
        "print (\"95% доверительный интервал для медианы кредитов, в которых нет просрочек:\",  stat_intervals(repayments_median, 0.05))\n",
        "print (\"95% доверительный интервал для медианы кредитов, в которых есть просрочки по возврату:\",  stat_intervals(loans_median, 0.05))\n",
        "print (\"95% доверительный интервал для разности медиан:\",  stat_intervals(delta_medianForAge, 0.05))"
      ],
      "execution_count": 41,
      "outputs": [
        {
          "output_type": "stream",
          "text": [
            "95% доверительный интервал для медианы кредитов, в которых нет просрочек: [34. 34.]\n",
            "95% доверительный интервал для медианы кредитов, в которых есть просрочки по возврату: [34. 35.]\n",
            "95% доверительный интервал для разности медиан: [-1.  0.]\n"
          ],
          "name": "stdout"
        }
      ]
    },
    {
      "cell_type": "markdown",
      "metadata": {
        "id": "E4gkxGJ7w8-Z",
        "colab_type": "text"
      },
      "source": [
        "\n",
        "**Вывод:** 0 входит в доверительный интервал, поэтому однозначно мы не можем сказать, что есть разница в медианых значений возраста в кредитах у которых нет просрочек и кредитах, где они есть."
      ]
    },
    {
      "cell_type": "markdown",
      "metadata": {
        "id": "4BjyGB-cxA8I",
        "colab_type": "text"
      },
      "source": [
        "**Проверим равенство распределений в группах.**"
      ]
    },
    {
      "cell_type": "code",
      "metadata": {
        "id": "B-mAo16QxGb3",
        "colab_type": "code",
        "colab": {
          "base_uri": "https://localhost:8080/",
          "height": 34
        },
        "outputId": "89e50463-39d5-440e-a9bd-bed5a749da63"
      },
      "source": [
        "# критерий для независимых выборок\n",
        "\n",
        "print (\"p-value: %f\" % permutation_test(repayment.AGE.values, loan.AGE.values, max_permutations = 5000))"
      ],
      "execution_count": 42,
      "outputs": [
        {
          "output_type": "stream",
          "text": [
            "p-value: 0.019000\n"
          ],
          "name": "stdout"
        }
      ]
    },
    {
      "cell_type": "markdown",
      "metadata": {
        "id": "gEhqTYQBxMe2",
        "colab_type": "text"
      },
      "source": [
        "\n",
        "**Вывод:** гипотеза о равенстве распредений отвергается.\n",
        "\n",
        "**Общий вывод:** Ввиду того, что доверительный интервал содержит ноль и в тоже время p-value < 0.05 мы не можем однозначно определить зависимость от возраста. Для более точных оценок необходимо больше данных."
      ]
    }
  ]
}