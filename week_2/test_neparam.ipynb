{
  "nbformat": 4,
  "nbformat_minor": 0,
  "metadata": {
    "colab": {
      "name": "test_neparam.ipynb",
      "provenance": []
    },
    "kernelspec": {
      "name": "python3",
      "display_name": "Python 3"
    },
    "accelerator": "GPU"
  },
  "cells": [
    {
      "cell_type": "code",
      "metadata": {
        "id": "t2xPCS_ElhzI",
        "colab_type": "code",
        "colab": {}
      },
      "source": [
        "import numpy as np\n",
        "from scipy import stats"
      ],
      "execution_count": 1,
      "outputs": []
    },
    {
      "cell_type": "markdown",
      "metadata": {
        "id": "fAFto4Y0md0y",
        "colab_type": "text"
      },
      "source": [
        "- Гипотеза о равенстве средних в двух независимых выборках;\n",
        "- (вариант с дельтой);\n",
        "- Стьюдента, Манна-Уитни, перестановочный с C"
      ]
    },
    {
      "cell_type": "markdown",
      "metadata": {
        "id": "wOQCBblpm3So",
        "colab_type": "text"
      },
      "source": [
        "**Вопрос 4**\n",
        "\n",
        "Давайте вернёмся к данным выживаемости пациентов с лейкоцитарной лимфомой из видео про критерий знаков:\n",
        "\n",
        "49, 58, 75, 110, 112, 132, 151, 276, 281, 362*\n",
        "\n",
        "\n",
        "Измерено остаточное время жизни с момента начала наблюдения (в неделях); звёздочка обозначает цензурирование сверху — исследование длилось 7 лет, и остаточное время жизни одного пациента, который дожил до конца наблюдения, неизвестно.\n",
        "\n",
        "Поскольку цензурировано только одно наблюдение, для проверки гипотезы H0 med X = 200 на этих данных можно использовать критерий знаковых рангов — можно считать, что время дожития последнего пациента в точности равно 362, на ранг этого наблюдения это никак не повлияет.\n",
        "\n",
        "Критерием знаковых рангов проверьте эту гипотезу против двусторонней альтернативы, введите достигаемый уровень значимости, округлённый до четырёх знаков после десятичной точки."
      ]
    },
    {
      "cell_type": "code",
      "metadata": {
        "id": "Uqa_xsarnFHe",
        "colab_type": "code",
        "colab": {
          "base_uri": "https://localhost:8080/",
          "height": 34
        },
        "outputId": "04f7f374-262c-43a9-86d3-6f5d9fe98cfd"
      },
      "source": [
        "survival = np.array([49,58,75,110,112,132,151,276,281,362])\n",
        "test = stats.wilcoxon(survival - 200)\n",
        "round(test[1], 4)"
      ],
      "execution_count": 4,
      "outputs": [
        {
          "output_type": "execute_result",
          "data": {
            "text/plain": [
              "0.2845"
            ]
          },
          "metadata": {
            "tags": []
          },
          "execution_count": 4
        }
      ]
    },
    {
      "cell_type": "markdown",
      "metadata": {
        "id": "R772xnvknjjy",
        "colab_type": "text"
      },
      "source": [
        "**Вопрос 5**\n",
        "\n",
        "В ходе исследования влияния лесозаготовки на биоразнообразие лесов острова Борнео собраны данные о количестве видов деревьев в 12 лесах, где вырубка не ведётся:\n",
        "\n",
        "22, 22, 15, 13, 19, 19, 18, 20, 21, 13, 13, 15,\n",
        "\n",
        "и в 9 лесах, где идёт вырубка:\n",
        "\n",
        "17, 18, 18, 15, 12, 4, 14, 15, 10.\n",
        "\n",
        "Проверьте гипотезу о равенстве среднего количества видов в двух типах лесов против односторонней альтернативы о снижении биоразнообразия в вырубаемых лесах. Используйте ранговый критерий. Чему равен достигаемый уровень значимости? Округлите до четырёх знаков после десятичной точки."
      ]
    },
    {
      "cell_type": "code",
      "metadata": {
        "id": "KQyEKipsn5gQ",
        "colab_type": "code",
        "colab": {
          "base_uri": "https://localhost:8080/",
          "height": 34
        },
        "outputId": "739a8b23-0ebc-4a77-b3dd-6fe581165e2a"
      },
      "source": [
        "withCutting = np.array([17,18,18,15,12,4,14,15,10])\n",
        "withoutCutting = np.array([22,22,15,13,19,19,18,20,21,13,13,15])\n",
        "test = stats.mannwhitneyu(withoutCutting, withCutting, alternative='greater')\n",
        "round(test[1], 4)"
      ],
      "execution_count": 5,
      "outputs": [
        {
          "output_type": "execute_result",
          "data": {
            "text/plain": [
              "0.029"
            ]
          },
          "metadata": {
            "tags": []
          },
          "execution_count": 5
        }
      ]
    },
    {
      "cell_type": "markdown",
      "metadata": {
        "id": "T_zdUO_GoJjd",
        "colab_type": "text"
      },
      "source": [
        "**Вопрос 6**\n",
        "\n",
        "8 января 1986 года космический шаттл \"Челленджер\" взорвался при взлёте. Семь астронавтов, находившихся на борту, погибли. В ходе расследования причин катастрофы основной версией была неполадка с резиновыми уплотнительными кольцами в соединении с ракетными ускорителями. Для 23 предшествовавших катастрофе полётов \"Челленджера\" известны температура воздуха и появление повреждений хотя бы у одного из уплотнительных колец.\n",
        "\n",
        "challenger.txt\n",
        "\n",
        "С помощью бутстрепа постройте 95% доверительный интервал для разности средних температур воздуха при запусках, когда уплотнительные кольца повреждались, и запусках, когда повреждений не было. Чему равна его ближайшая к нулю граница? Округлите до четырёх знаков после запятой.\n",
        "\n",
        "Чтобы получить в точности такой же доверительный интервал, как у нас:\n",
        "\n",
        "установите random seed = 0 перед первым вызовом функции get_bootstrap_samples, один раз\n",
        "сделайте по 1000 псевдовыборок из каждой выборки."
      ]
    },
    {
      "cell_type": "code",
      "metadata": {
        "id": "DIZSo2nXoPd0",
        "colab_type": "code",
        "colab": {
          "base_uri": "https://localhost:8080/",
          "height": 204
        },
        "outputId": "75530d96-25a1-4cba-cbc6-775211413303"
      },
      "source": [
        "import pandas as pd\n",
        "\n",
        "data = pd.read_csv(\"challenger.txt\", delimiter=\"\\t\")\n",
        "data = data.drop(data.columns[0], axis=1)\n",
        "data.head()"
      ],
      "execution_count": 7,
      "outputs": [
        {
          "output_type": "execute_result",
          "data": {
            "text/html": [
              "<div>\n",
              "<style scoped>\n",
              "    .dataframe tbody tr th:only-of-type {\n",
              "        vertical-align: middle;\n",
              "    }\n",
              "\n",
              "    .dataframe tbody tr th {\n",
              "        vertical-align: top;\n",
              "    }\n",
              "\n",
              "    .dataframe thead th {\n",
              "        text-align: right;\n",
              "    }\n",
              "</style>\n",
              "<table border=\"1\" class=\"dataframe\">\n",
              "  <thead>\n",
              "    <tr style=\"text-align: right;\">\n",
              "      <th></th>\n",
              "      <th>Temperature</th>\n",
              "      <th>Incident</th>\n",
              "    </tr>\n",
              "  </thead>\n",
              "  <tbody>\n",
              "    <tr>\n",
              "      <th>0</th>\n",
              "      <td>18.9</td>\n",
              "      <td>0</td>\n",
              "    </tr>\n",
              "    <tr>\n",
              "      <th>1</th>\n",
              "      <td>21.1</td>\n",
              "      <td>1</td>\n",
              "    </tr>\n",
              "    <tr>\n",
              "      <th>2</th>\n",
              "      <td>20.6</td>\n",
              "      <td>0</td>\n",
              "    </tr>\n",
              "    <tr>\n",
              "      <th>3</th>\n",
              "      <td>20.0</td>\n",
              "      <td>0</td>\n",
              "    </tr>\n",
              "    <tr>\n",
              "      <th>4</th>\n",
              "      <td>19.4</td>\n",
              "      <td>0</td>\n",
              "    </tr>\n",
              "  </tbody>\n",
              "</table>\n",
              "</div>"
            ],
            "text/plain": [
              "   Temperature  Incident\n",
              "0         18.9         0\n",
              "1         21.1         1\n",
              "2         20.6         0\n",
              "3         20.0         0\n",
              "4         19.4         0"
            ]
          },
          "metadata": {
            "tags": []
          },
          "execution_count": 7
        }
      ]
    },
    {
      "cell_type": "code",
      "metadata": {
        "id": "B61j9z5OoYte",
        "colab_type": "code",
        "colab": {}
      },
      "source": [
        "def get_bootstrap_samples(data11, n_samples):\n",
        "    indices = np.random.randint(0, len(data11), (n_samples, len(data11)))\n",
        "    samples = data11[indices]\n",
        "    return samples"
      ],
      "execution_count": 8,
      "outputs": []
    },
    {
      "cell_type": "code",
      "metadata": {
        "id": "5wFiTafJok5D",
        "colab_type": "code",
        "colab": {}
      },
      "source": [
        "import random\n",
        "\n",
        "def stat_intervals(stat, alpha = 0.05):\n",
        "    boundaries = np.percentile(stat, [100 * alpha / 2., 100 * (1 - alpha / 2.)])\n",
        "    return boundaries"
      ],
      "execution_count": 9,
      "outputs": []
    },
    {
      "cell_type": "code",
      "metadata": {
        "id": "twY3qJLKorSc",
        "colab_type": "code",
        "colab": {
          "base_uri": "https://localhost:8080/",
          "height": 34
        },
        "outputId": "4958c1c8-a62d-4ecd-fbec-8378507362d1"
      },
      "source": [
        "incident = np.array(data.Temperature[data.Incident == 1])\n",
        "clear = np.array(data.Temperature[data.Incident == 0])\n",
        "np.random.seed(0)\n",
        "clear_means = list(map(np.mean, get_bootstrap_samples(clear, 1000)))\n",
        "incident_means = list(map(np.mean, get_bootstrap_samples(incident, 1000)))\n",
        "delta_means = list(map(lambda x: x[0] - x[1], zip(clear_means, incident_means)))\n",
        "intervals = stat_intervals(delta_means)\n",
        "round(intervals[0],4)"
      ],
      "execution_count": 11,
      "outputs": [
        {
          "output_type": "execute_result",
          "data": {
            "text/plain": [
              "1.423"
            ]
          },
          "metadata": {
            "tags": []
          },
          "execution_count": 11
        }
      ]
    },
    {
      "cell_type": "markdown",
      "metadata": {
        "id": "HLkM5trHpLXv",
        "colab_type": "text"
      },
      "source": [
        "**Вопрос 7**\n",
        "\n",
        "\n",
        "На данных предыдущей задачи проверьте гипотезу об одинаковой средней температуре воздуха в дни, когда уплотнительный кольца повреждались, и дни, когда повреждений не было. Используйте перестановочный критерий и двустороннюю альтернативу. Чему равен достигаемый уровень значимости? Округлите до четырёх знаков после десятичной точки.\n",
        "\n",
        "Чтобы получить такое же значение, как мы:\n",
        "\n",
        "установите random seed = 0;\n",
        "возьмите 10000 перестановок."
      ]
    },
    {
      "cell_type": "code",
      "metadata": {
        "id": "mD9FDPwfpNNh",
        "colab_type": "code",
        "colab": {}
      },
      "source": [
        "def permutation_t_stat_ind(sample1, sample2):\n",
        "    return np.mean(sample1) - np.mean(sample2)"
      ],
      "execution_count": 12,
      "outputs": []
    },
    {
      "cell_type": "code",
      "metadata": {
        "id": "pihSC46GpSwX",
        "colab_type": "code",
        "colab": {}
      },
      "source": [
        "def get_random_combinations(n1, n2, max_combinations):\n",
        "    index = list(range(n1 + n2))\n",
        "    indices = set([tuple(index)])\n",
        "    l = list(range(max_combinations - 1))\n",
        "  \n",
        "    for i in l:\n",
        "        np.random.shuffle(index)\n",
        "        indices.add(tuple(index))\n",
        "    return [(index[:n1], index[n1:]) for index in indices]"
      ],
      "execution_count": 37,
      "outputs": []
    },
    {
      "cell_type": "code",
      "metadata": {
        "id": "UrsOP1ULpVkA",
        "colab_type": "code",
        "colab": {}
      },
      "source": [
        "def permutation_zero_dist_ind(sample1, sample2, max_combinations = None):\n",
        "    joined_sample = np.hstack((sample1, sample2))\n",
        "    n1 = len(sample1)\n",
        "    n = len(joined_sample)\n",
        "    \n",
        "    if max_combinations:\n",
        "        indices = get_random_combinations(n1, len(sample2), max_combinations)\n",
        "    else:\n",
        "        indices = [(list(index), filter(lambda i: i not in index, range(n))) \\\n",
        "                    for index in itertools.combinations(range(n), n1)]\n",
        "    \n",
        "    distr = [joined_sample[list(i[0])].mean() - joined_sample[list(i[1])].mean() \\\n",
        "             for i in indices]\n",
        "    return distr"
      ],
      "execution_count": 14,
      "outputs": []
    },
    {
      "cell_type": "code",
      "metadata": {
        "id": "kwat2uU9pWmm",
        "colab_type": "code",
        "colab": {}
      },
      "source": [
        "def permutation_test(sample, mean, max_permutations = None, alternative = 'two-sided'):\n",
        "    if alternative not in ('two-sided', 'less', 'greater'):\n",
        "        raise ValueError(\"alternative not recognized\\n\"\n",
        "                         \"should be 'two-sided', 'less' or 'greater'\")\n",
        "    \n",
        "    t_stat = permutation_t_stat_ind(sample, mean)\n",
        "    \n",
        "    zero_distr = permutation_zero_dist_ind(sample, mean, max_permutations)\n",
        "    \n",
        "    if alternative == 'two-sided':\n",
        "        return sum([1. if abs(x) >= abs(t_stat) else 0. for x in zero_distr]) / len(zero_distr)\n",
        "    \n",
        "    if alternative == 'less':\n",
        "        return sum([1. if x <= t_stat else 0. for x in zero_distr]) / len(zero_distr)\n",
        "\n",
        "    if alternative == 'greater':\n",
        "        return sum([1. if x >= t_stat else 0. for x in zero_distr]) / len(zero_distr)"
      ],
      "execution_count": 15,
      "outputs": []
    },
    {
      "cell_type": "code",
      "metadata": {
        "id": "Gt1EOWDEpYuc",
        "colab_type": "code",
        "colab": {
          "base_uri": "https://localhost:8080/",
          "height": 34
        },
        "outputId": "ad5d42db-535b-4941-a9b9-2621eeb77080"
      },
      "source": [
        "np.random.seed(0)\n",
        "permutation_test(incident, clear, max_permutations = 10000)"
      ],
      "execution_count": 38,
      "outputs": [
        {
          "output_type": "execute_result",
          "data": {
            "text/plain": [
              "0.0057"
            ]
          },
          "metadata": {
            "tags": []
          },
          "execution_count": 38
        }
      ]
    }
  ]
}