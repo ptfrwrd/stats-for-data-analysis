{
  "nbformat": 4,
  "nbformat_minor": 0,
  "metadata": {
    "colab": {
      "name": "train_test_params.ipynb",
      "provenance": [],
      "toc_visible": true
    },
    "kernelspec": {
      "name": "python3",
      "display_name": "Python 3"
    },
    "accelerator": "GPU"
  },
  "cells": [
    {
      "cell_type": "code",
      "metadata": {
        "id": "fdqLfgbQAfFn",
        "colab_type": "code",
        "colab": {}
      },
      "source": [
        "import numpy as np\n",
        "import scipy\n",
        "import statsmodels\n",
        "import pandas as pd"
      ],
      "execution_count": 15,
      "outputs": []
    },
    {
      "cell_type": "markdown",
      "metadata": {
        "id": "VndxaG9Q-fAj",
        "colab_type": "text"
      },
      "source": [
        "# Решение тренировочного теста по критерям Стьюдента"
      ]
    },
    {
      "cell_type": "markdown",
      "metadata": {
        "id": "6l0rHw-I96yK",
        "colab_type": "text"
      },
      "source": [
        "1.  *1-stats.t.cdf(t, nu);*\n",
        "2.  *Признаки устроены так, что mu1 < mu2 в принципе невозможно;*\n",
        "3.  *Приближенное решение точно при n1=n2; Проблема заключается в том, что не существует точного способа сравнить среднее двух выборок с неизвестными дисперсиями;*"
      ]
    },
    {
      "cell_type": "markdown",
      "metadata": {
        "id": "t9904BoF-zuB",
        "colab_type": "text"
      },
      "source": [
        "**Вопрос 4**\n",
        "\n",
        "Уровень кальция в крови здоровых молодых женщин равен в среднем 9.5 милиграммам на децилитр и имеет характерное стандартное отклонение 0.4 мг/дл. В сельской больнице Гватемалы для 160 здоровых беременных женщин при первом обращении для ведения беременности был измерен уровень кальция; среднее значение составило 9.57 мг/дл. Можно ли утверждать, что средний уровень кальция в этой популяции отличается от 9.5?\n",
        "\n",
        "Посчитайте достигаемый уровень значимости. Поскольку известны только среднее и дисперсия, а не сама выборка, нельзя использовать стандартные функции критериев — нужно реализовать формулу достигаемого уровня значимости самостоятельно.\n",
        "\n",
        "Округлите ответ до четырёх знаков после десятичной точки."
      ]
    },
    {
      "cell_type": "markdown",
      "metadata": {
        "id": "SPnBcEiR_ZgG",
        "colab_type": "text"
      },
      "source": [
        "известны дисперсии, значит Z-критерий.\n",
        "\n",
        "нулевая гипотеза: mu0 = 9.5\n",
        "альтернатива: m0 != 9.5   -> двусторонняя\n",
        "\n",
        "Z = (mean(X) - mu0) / (sigma/sqrt(n))\n",
        "\n",
        "p-value = 2 ( 1 - F(|z|))"
      ]
    },
    {
      "cell_type": "code",
      "metadata": {
        "id": "thPpQouw-11t",
        "colab_type": "code",
        "colab": {
          "base_uri": "https://localhost:8080/",
          "height": 34
        },
        "outputId": "f24701cb-9390-44eb-a761-be9d7ccebcfd"
      },
      "source": [
        "z = (9.57 - 9.5)/(0.4/np.sqrt(160))\n",
        "z"
      ],
      "execution_count": 2,
      "outputs": [
        {
          "output_type": "execute_result",
          "data": {
            "text/plain": [
              "2.213594362117875"
            ]
          },
          "metadata": {
            "tags": []
          },
          "execution_count": 2
        }
      ]
    },
    {
      "cell_type": "code",
      "metadata": {
        "id": "NjBFkzxFApB6",
        "colab_type": "code",
        "colab": {
          "base_uri": "https://localhost:8080/",
          "height": 34
        },
        "outputId": "3c549807-a494-4715-f7d6-5702c6e786e9"
      },
      "source": [
        "round(2*(1-stats.norm.cdf(abs(z))), 4)"
      ],
      "execution_count": 6,
      "outputs": [
        {
          "output_type": "execute_result",
          "data": {
            "text/plain": [
              "0.0269"
            ]
          },
          "metadata": {
            "tags": []
          },
          "execution_count": 6
        }
      ]
    },
    {
      "cell_type": "markdown",
      "metadata": {
        "id": "VeeiWCO6EWAh",
        "colab_type": "text"
      },
      "source": [
        ""
      ]
    },
    {
      "cell_type": "markdown",
      "metadata": {
        "id": "FuoptkvEEbXU",
        "colab_type": "text"
      },
      "source": [
        "**Вопрос 6**\n",
        "\n",
        "Отделите 25% случайных наблюдений в тестовую выборку с помощью функции sklearn.cross_validation.train_test_split (зафиксируйте random state = 1). На обучающей выборке настройте две регрессионные модели:\n",
        "\n",
        "- линейную регрессию с помощью LinearRegression без параметров\n",
        "\n",
        "- случайный лес из 10 деревьев с помощью RandomForestRegressor с random_state=1.\n",
        "\n",
        "Какая из моделей лучше предсказывает цену бриллиантов? Сделайте предсказания на тестовой выборке, посчитайте модули отклонений предсказаний от истинных цен. Проверьте гипотезу об одинаковом среднем качестве предсказаний, вычислите достигаемый уровень значимости. Отвергается ли гипотеза об одинаковом качестве моделей против двусторонней альтернативы на уровне значимости alpha=0.05?"
      ]
    },
    {
      "cell_type": "code",
      "metadata": {
        "id": "pknxQvGIEWTq",
        "colab_type": "code",
        "colab": {
          "base_uri": "https://localhost:8080/",
          "height": 419
        },
        "outputId": "3c816e40-4b78-4260-bc28-06e5c933d257"
      },
      "source": [
        "data = pd.read_csv('diamonds.txt', sep = '\\t', header = 0)\n",
        "data"
      ],
      "execution_count": 2,
      "outputs": [
        {
          "output_type": "execute_result",
          "data": {
            "text/html": [
              "<div>\n",
              "<style scoped>\n",
              "    .dataframe tbody tr th:only-of-type {\n",
              "        vertical-align: middle;\n",
              "    }\n",
              "\n",
              "    .dataframe tbody tr th {\n",
              "        vertical-align: top;\n",
              "    }\n",
              "\n",
              "    .dataframe thead th {\n",
              "        text-align: right;\n",
              "    }\n",
              "</style>\n",
              "<table border=\"1\" class=\"dataframe\">\n",
              "  <thead>\n",
              "    <tr style=\"text-align: right;\">\n",
              "      <th></th>\n",
              "      <th>carat</th>\n",
              "      <th>depth</th>\n",
              "      <th>table</th>\n",
              "      <th>price</th>\n",
              "      <th>x</th>\n",
              "      <th>y</th>\n",
              "      <th>z</th>\n",
              "    </tr>\n",
              "  </thead>\n",
              "  <tbody>\n",
              "    <tr>\n",
              "      <th>0</th>\n",
              "      <td>0.23</td>\n",
              "      <td>61.5</td>\n",
              "      <td>55.0</td>\n",
              "      <td>326</td>\n",
              "      <td>3.95</td>\n",
              "      <td>3.98</td>\n",
              "      <td>2.43</td>\n",
              "    </tr>\n",
              "    <tr>\n",
              "      <th>1</th>\n",
              "      <td>0.21</td>\n",
              "      <td>59.8</td>\n",
              "      <td>61.0</td>\n",
              "      <td>326</td>\n",
              "      <td>3.89</td>\n",
              "      <td>3.84</td>\n",
              "      <td>2.31</td>\n",
              "    </tr>\n",
              "    <tr>\n",
              "      <th>2</th>\n",
              "      <td>0.23</td>\n",
              "      <td>56.9</td>\n",
              "      <td>65.0</td>\n",
              "      <td>327</td>\n",
              "      <td>4.05</td>\n",
              "      <td>4.07</td>\n",
              "      <td>2.31</td>\n",
              "    </tr>\n",
              "    <tr>\n",
              "      <th>3</th>\n",
              "      <td>0.29</td>\n",
              "      <td>62.4</td>\n",
              "      <td>58.0</td>\n",
              "      <td>334</td>\n",
              "      <td>4.20</td>\n",
              "      <td>4.23</td>\n",
              "      <td>2.63</td>\n",
              "    </tr>\n",
              "    <tr>\n",
              "      <th>4</th>\n",
              "      <td>0.31</td>\n",
              "      <td>63.3</td>\n",
              "      <td>58.0</td>\n",
              "      <td>335</td>\n",
              "      <td>4.34</td>\n",
              "      <td>4.35</td>\n",
              "      <td>2.75</td>\n",
              "    </tr>\n",
              "    <tr>\n",
              "      <th>...</th>\n",
              "      <td>...</td>\n",
              "      <td>...</td>\n",
              "      <td>...</td>\n",
              "      <td>...</td>\n",
              "      <td>...</td>\n",
              "      <td>...</td>\n",
              "      <td>...</td>\n",
              "    </tr>\n",
              "    <tr>\n",
              "      <th>53935</th>\n",
              "      <td>0.72</td>\n",
              "      <td>60.8</td>\n",
              "      <td>57.0</td>\n",
              "      <td>2757</td>\n",
              "      <td>5.75</td>\n",
              "      <td>5.76</td>\n",
              "      <td>3.50</td>\n",
              "    </tr>\n",
              "    <tr>\n",
              "      <th>53936</th>\n",
              "      <td>0.72</td>\n",
              "      <td>63.1</td>\n",
              "      <td>55.0</td>\n",
              "      <td>2757</td>\n",
              "      <td>5.69</td>\n",
              "      <td>5.75</td>\n",
              "      <td>3.61</td>\n",
              "    </tr>\n",
              "    <tr>\n",
              "      <th>53937</th>\n",
              "      <td>0.70</td>\n",
              "      <td>62.8</td>\n",
              "      <td>60.0</td>\n",
              "      <td>2757</td>\n",
              "      <td>5.66</td>\n",
              "      <td>5.68</td>\n",
              "      <td>3.56</td>\n",
              "    </tr>\n",
              "    <tr>\n",
              "      <th>53938</th>\n",
              "      <td>0.86</td>\n",
              "      <td>61.0</td>\n",
              "      <td>58.0</td>\n",
              "      <td>2757</td>\n",
              "      <td>6.15</td>\n",
              "      <td>6.12</td>\n",
              "      <td>3.74</td>\n",
              "    </tr>\n",
              "    <tr>\n",
              "      <th>53939</th>\n",
              "      <td>0.75</td>\n",
              "      <td>62.2</td>\n",
              "      <td>55.0</td>\n",
              "      <td>2757</td>\n",
              "      <td>5.83</td>\n",
              "      <td>5.87</td>\n",
              "      <td>3.64</td>\n",
              "    </tr>\n",
              "  </tbody>\n",
              "</table>\n",
              "<p>53940 rows × 7 columns</p>\n",
              "</div>"
            ],
            "text/plain": [
              "       carat  depth  table  price     x     y     z\n",
              "0       0.23   61.5   55.0    326  3.95  3.98  2.43\n",
              "1       0.21   59.8   61.0    326  3.89  3.84  2.31\n",
              "2       0.23   56.9   65.0    327  4.05  4.07  2.31\n",
              "3       0.29   62.4   58.0    334  4.20  4.23  2.63\n",
              "4       0.31   63.3   58.0    335  4.34  4.35  2.75\n",
              "...      ...    ...    ...    ...   ...   ...   ...\n",
              "53935   0.72   60.8   57.0   2757  5.75  5.76  3.50\n",
              "53936   0.72   63.1   55.0   2757  5.69  5.75  3.61\n",
              "53937   0.70   62.8   60.0   2757  5.66  5.68  3.56\n",
              "53938   0.86   61.0   58.0   2757  6.15  6.12  3.74\n",
              "53939   0.75   62.2   55.0   2757  5.83  5.87  3.64\n",
              "\n",
              "[53940 rows x 7 columns]"
            ]
          },
          "metadata": {
            "tags": []
          },
          "execution_count": 2
        }
      ]
    },
    {
      "cell_type": "code",
      "metadata": {
        "id": "Do7TOGd7EoNs",
        "colab_type": "code",
        "colab": {}
      },
      "source": [
        "from sklearn.model_selection import train_test_split\n",
        "\n",
        "X_train, X_test, y_train, y_test = train_test_split(data.drop(columns=['price']), data.price, test_size=0.25, random_state=1)"
      ],
      "execution_count": 11,
      "outputs": []
    },
    {
      "cell_type": "code",
      "metadata": {
        "id": "Q-uOmLifEoMu",
        "colab_type": "code",
        "colab": {}
      },
      "source": [
        "from sklearn.linear_model import LinearRegression\n",
        "\n",
        "linear_regression = LinearRegression()\n",
        "linear_regression.fit(X_train, y_train)\n",
        "predictions_lr = linear_regression.predict(X_test)"
      ],
      "execution_count": 12,
      "outputs": []
    },
    {
      "cell_type": "code",
      "metadata": {
        "id": "oJrxFlMuNfgT",
        "colab_type": "code",
        "colab": {}
      },
      "source": [
        "from sklearn.ensemble import RandomForestRegressor\n",
        "\n",
        "randomforest_regression = RandomForestRegressor(n_estimators=10, random_state=1)\n",
        "randomforest_regression.fit(X_train,y_train)\n",
        "predictions_rfr = randomforest_regression.predict(X_test)"
      ],
      "execution_count": 13,
      "outputs": []
    },
    {
      "cell_type": "code",
      "metadata": {
        "id": "5CjbTxCYywHS",
        "colab_type": "code",
        "colab": {
          "base_uri": "https://localhost:8080/",
          "height": 34
        },
        "outputId": "425fd975-37a1-4236-dd49-8f4ceae25822"
      },
      "source": [
        "stats.ttest_rel(abs(y_test - predictions_lr), \n",
        "                abs(y_test - predictions_rfr))"
      ],
      "execution_count": 14,
      "outputs": [
        {
          "output_type": "execute_result",
          "data": {
            "text/plain": [
              "Ttest_relResult(statistic=13.017729783878393, pvalue=1.655174575144972e-38)"
            ]
          },
          "metadata": {
            "tags": []
          },
          "execution_count": 14
        }
      ]
    },
    {
      "cell_type": "code",
      "metadata": {
        "id": "Aif10jis145r",
        "colab_type": "code",
        "colab": {
          "base_uri": "https://localhost:8080/",
          "height": 34
        },
        "outputId": "d02a511f-8287-474b-ca56-afd92b267e3c"
      },
      "source": [
        ""
      ],
      "execution_count": 26,
      "outputs": [
        {
          "output_type": "execute_result",
          "data": {
            "text/plain": [
              "259306.23929491662"
            ]
          },
          "metadata": {
            "tags": []
          },
          "execution_count": 26
        }
      ]
    },
    {
      "cell_type": "markdown",
      "metadata": {
        "id": "WYKj3wduzpwj",
        "colab_type": "text"
      },
      "source": [
        "**Вопрос 7**\n",
        "\n",
        "В предыдущей задаче посчитайте 95% доверительный интервал для разности средних абсолютных ошибок предсказаний регрессии и случайного леса. Чему равна его ближайшая к нулю граница? Округлите до десятков (поскольку случайный лес может давать немного разные предсказания в зависимости от версий библиотек, мы просим вас так сильно округлить, чтобы полученное значение наверняка совпало с нашим)."
      ]
    },
    {
      "cell_type": "code",
      "metadata": {
        "id": "oVbDTLOczpTx",
        "colab_type": "code",
        "colab": {
          "base_uri": "https://localhost:8080/",
          "height": 34
        },
        "outputId": "4701354d-0a61-4e83-ba0e-95578505890f"
      },
      "source": [
        "from statsmodels.stats.weightstats import *\n",
        "\n",
        "DescrStatsW(abs(predictions_lr - y_test) - abs(predictions_rfr - y_test)).tconfint_mean()"
      ],
      "execution_count": 28,
      "outputs": [
        {
          "output_type": "execute_result",
          "data": {
            "text/plain": [
              "(74.2872453259534, 100.62452098634195)"
            ]
          },
          "metadata": {
            "tags": []
          },
          "execution_count": 28
        }
      ]
    }
  ]
}