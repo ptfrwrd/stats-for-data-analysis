{
  "nbformat": 4,
  "nbformat_minor": 0,
  "metadata": {
    "kernelspec": {
      "display_name": "Python 3",
      "language": "python",
      "name": "python3"
    },
    "language_info": {
      "codemirror_mode": {
        "name": "ipython",
        "version": 3
      },
      "file_extension": ".py",
      "mimetype": "text/x-python",
      "name": "python",
      "nbconvert_exporter": "python",
      "pygments_lexer": "ipython3",
      "version": "3.6.5"
    },
    "colab": {
      "name": "stat.student_tests.json.ipynb",
      "provenance": [],
      "collapsed_sections": []
    },
    "accelerator": "GPU"
  },
  "cells": [
    {
      "cell_type": "markdown",
      "metadata": {
        "id": "1MQ7ssz7kuhx",
        "colab_type": "text"
      },
      "source": [
        "**Корректность проверена на Python 3.7:**\n",
        "+ pandas 0.23.0\n",
        "+ numpy 1.14.5\n",
        "+ scipy 1.1.0\n",
        "+ statsmodels 0.9.0"
      ]
    },
    {
      "cell_type": "markdown",
      "metadata": {
        "id": "kDQBS3Mukuhy",
        "colab_type": "text"
      },
      "source": [
        "# Критерии Стьюдента"
      ]
    },
    {
      "cell_type": "code",
      "metadata": {
        "id": "U25obBp9kuhy",
        "colab_type": "code",
        "colab": {
          "base_uri": "https://localhost:8080/",
          "height": 51
        },
        "outputId": "44ddc802-d7a2-47df-ff7f-3b5f661f6ad0"
      },
      "source": [
        "import numpy as np\n",
        "import pandas as pd\n",
        "\n",
        "import scipy\n",
        "from statsmodels.stats.weightstats import *"
      ],
      "execution_count": 1,
      "outputs": [
        {
          "output_type": "stream",
          "text": [
            "/usr/local/lib/python3.6/dist-packages/statsmodels/tools/_testing.py:19: FutureWarning: pandas.util.testing is deprecated. Use the functions in the public API at pandas.testing instead.\n",
            "  import pandas.util.testing as tm\n"
          ],
          "name": "stderr"
        }
      ]
    },
    {
      "cell_type": "code",
      "metadata": {
        "id": "VhH24f17kuh2",
        "colab_type": "code",
        "colab": {
          "base_uri": "https://localhost:8080/",
          "height": 85
        },
        "outputId": "1ee5e15d-d679-4c20-be82-3063c19a6d7b"
      },
      "source": [
        "import scipy\n",
        "import statsmodels\n",
        "print(np.__version__)\n",
        "print(pd.__version__)\n",
        "print(scipy.__version__)\n",
        "print(statsmodels.__version__)"
      ],
      "execution_count": 2,
      "outputs": [
        {
          "output_type": "stream",
          "text": [
            "1.18.5\n",
            "1.0.5\n",
            "1.4.1\n",
            "0.10.2\n"
          ],
          "name": "stdout"
        }
      ]
    },
    {
      "cell_type": "code",
      "metadata": {
        "id": "OA7_ITJFkuh5",
        "colab_type": "code",
        "colab": {
          "base_uri": "https://localhost:8080/",
          "height": 34
        },
        "outputId": "0d81a1fd-766a-420d-a063-c0133a664595"
      },
      "source": [
        "%pylab inline"
      ],
      "execution_count": 3,
      "outputs": [
        {
          "output_type": "stream",
          "text": [
            "Populating the interactive namespace from numpy and matplotlib\n"
          ],
          "name": "stdout"
        }
      ]
    },
    {
      "cell_type": "markdown",
      "metadata": {
        "id": "LTw4z46-kuh7",
        "colab_type": "text"
      },
      "source": [
        "## Treatment effects of methylphenidate"
      ]
    },
    {
      "cell_type": "markdown",
      "metadata": {
        "id": "RsvUCumYkuh8",
        "colab_type": "text"
      },
      "source": [
        "В рамках исследования эффективности препарата метилфенидат 24 пациента с синдромом дефицита внимания и гиперактивности в течение недели принимали либо метилфенидат, либо плацебо. В конце недели каждый пациент проходили тест на способность к подавлению импульсивных поведенческих реакций. На втором этапе плацебо и препарат менялись, и после недельного курса каждый испытуемые проходили второй тест.\n",
        "\n",
        "Требуется оценить эффект применения препарата.\n",
        "\n",
        "Pearson D.A, Santos C.W., Casat C.D., et al. (2004). Treatment effects of methylphenidate on cognitive functioning in children with mental retardation and ADHD. Journal of the American Academy of Child and Adolescent Psychiatry, 43(6), 677–685."
      ]
    },
    {
      "cell_type": "code",
      "metadata": {
        "id": "ZHYXGZFbkuh8",
        "colab_type": "code",
        "colab": {}
      },
      "source": [
        "data = pd.read_csv('ADHD.txt', sep = ' ', header = 0)\n",
        "data.columns = ['Placebo', 'Methylphenidate']"
      ],
      "execution_count": 4,
      "outputs": []
    },
    {
      "cell_type": "code",
      "metadata": {
        "id": "r-f2WQtVkuh_",
        "colab_type": "code",
        "colab": {
          "base_uri": "https://localhost:8080/",
          "height": 283
        },
        "outputId": "e3e2a42d-bdb7-48cc-ba89-1bfc35024b3e"
      },
      "source": [
        "data.plot.scatter('Placebo', 'Methylphenidate', c = 'r', s = 30)\n",
        "pylab.grid()\n",
        "pylab.plot(range(100), c = 'black')\n",
        "pylab.xlim((20, 80))\n",
        "pylab.ylim((20, 80))\n",
        "pylab.show()"
      ],
      "execution_count": 5,
      "outputs": [
        {
          "output_type": "display_data",
          "data": {
            "image/png": "[encoded data removed]",
            "text/plain": [
              "<Figure size 432x288 with 1 Axes>"
            ]
          },
          "metadata": {
            "tags": [],
            "needs_background": "light"
          }
        }
      ]
    },
    {
      "cell_type": "code",
      "metadata": {
        "id": "DYtQjY-2kuiB",
        "colab_type": "code",
        "colab": {
          "base_uri": "https://localhost:8080/",
          "height": 265
        },
        "outputId": "134d4345-1361-47b8-c99d-a65fe07fce9e"
      },
      "source": [
        "data.plot.hist()\n",
        "pylab.show()"
      ],
      "execution_count": 6,
      "outputs": [
        {
          "output_type": "display_data",
          "data": {
            "image/png": "[encoded data removed]",
            "text/plain": [
              "<Figure size 432x288 with 1 Axes>"
            ]
          },
          "metadata": {
            "tags": [],
            "needs_background": "light"
          }
        }
      ]
    },
    {
      "cell_type": "markdown",
      "metadata": {
        "id": "YrkSnriYkuiE",
        "colab_type": "text"
      },
      "source": [
        "## Одновыборочный критерий Стьюдента"
      ]
    },
    {
      "cell_type": "markdown",
      "metadata": {
        "collapsed": true,
        "id": "ICqF9fHekuiF",
        "colab_type": "text"
      },
      "source": [
        "Исходя из того, что способность к подавлению испульсивных поведенческих реакций измеряется по шкале [0, 100], можно предположить, что при хорошей калибровке теста средняя способоность к подавлению реакций в популяции составляет 50. Тогда для того, чтобы проверить гипотезу о том, что пациенты в выборке действительно в среднем хуже справляются с подавлением импульсивных реакций (нуждаются в лечении), давайте проверим, что их способность к подавлению реакций отличается от средней (не равна 50). "
      ]
    },
    {
      "cell_type": "markdown",
      "metadata": {
        "id": "UbeS-SCTkuiF",
        "colab_type": "text"
      },
      "source": [
        "$H_0\\colon$ среднее значение способности к подавлению испульсивных поведенческих реакций равно 50.\n",
        "\n",
        "$H_1\\colon$ не равно."
      ]
    },
    {
      "cell_type": "code",
      "metadata": {
        "id": "f9fZVKv9kuiG",
        "colab_type": "code",
        "colab": {
          "base_uri": "https://localhost:8080/",
          "height": 34
        },
        "outputId": "786989fb-e3c7-442c-db72-6699676ebea5"
      },
      "source": [
        "stats.ttest_1samp(data.Placebo, 50.0)"
      ],
      "execution_count": 7,
      "outputs": [
        {
          "output_type": "execute_result",
          "data": {
            "text/plain": [
              "Ttest_1sampResult(statistic=-4.438003341905128, pvalue=0.00018894293251080175)"
            ]
          },
          "metadata": {
            "tags": []
          },
          "execution_count": 7
        }
      ]
    },
    {
      "cell_type": "markdown",
      "metadata": {
        "id": "xApQRiUhlSbl",
        "colab_type": "text"
      },
      "source": [
        "Значит, среднее не равно 50"
      ]
    },
    {
      "cell_type": "code",
      "metadata": {
        "id": "CUN4GM_PkuiI",
        "colab_type": "code",
        "colab": {
          "base_uri": "https://localhost:8080/",
          "height": 34
        },
        "outputId": "3ebc414f-fcba-4a83-a906-86f72b8873a3"
      },
      "source": [
        "print(\"95%% confidence interval: [%f, %f]\" % zconfint(data.Placebo))"
      ],
      "execution_count": 8,
      "outputs": [
        {
          "output_type": "stream",
          "text": [
            "95% confidence interval: [35.223273, 44.276727]\n"
          ],
          "name": "stdout"
        }
      ]
    },
    {
      "cell_type": "markdown",
      "metadata": {
        "id": "botNDkP8kuiL",
        "colab_type": "text"
      },
      "source": [
        "## Двухвыборочный критерий Стьюдента (независимые выборки)"
      ]
    },
    {
      "cell_type": "markdown",
      "metadata": {
        "id": "HCTarLSfkuiL",
        "colab_type": "text"
      },
      "source": [
        "Для того, чтобы использовать двухвыборочный критерий Стьюдента, убедимся, что распределения в выборках существенно не отличаются от нормальных."
      ]
    },
    {
      "cell_type": "code",
      "metadata": {
        "id": "BjSZSiuSkuiM",
        "colab_type": "code",
        "colab": {
          "base_uri": "https://localhost:8080/",
          "height": 276
        },
        "outputId": "8b0e4640-d297-4c28-c6e7-3cc93cc28148"
      },
      "source": [
        "pylab.figure(figsize=(12,8))\n",
        "pylab.subplot(2,2,1)\n",
        "stats.probplot(data.Placebo, dist=\"norm\", plot=pylab)\n",
        "pylab.subplot(2,2,2)\n",
        "stats.probplot(data.Methylphenidate, dist=\"norm\", plot=pylab)\n",
        "pylab.show()"
      ],
      "execution_count": 9,
      "outputs": [
        {
          "output_type": "display_data",
          "data": {
            "image/png": "[encoded data removed]",
            "text/plain": [
              "<Figure size 864x576 with 2 Axes>"
            ]
          },
          "metadata": {
            "tags": [],
            "needs_background": "light"
          }
        }
      ]
    },
    {
      "cell_type": "markdown",
      "metadata": {
        "id": "G6Ls7ZpBld2G",
        "colab_type": "text"
      },
      "source": [
        "Не сильно отличаются от прямой, значит данные вохможно не отличаются от нормального распределения сильно"
      ]
    },
    {
      "cell_type": "markdown",
      "metadata": {
        "id": "AEzORWTqkuiO",
        "colab_type": "text"
      },
      "source": [
        "Критерий Шапиро-Уилка:\n",
        "\n",
        " $H_0\\colon$ способности к подавлению импульсивных реакций распредлены нормально\n",
        " \n",
        " $H_1\\colon$ не нормально."
      ]
    },
    {
      "cell_type": "code",
      "metadata": {
        "id": "ZZgtp_DRkuiO",
        "colab_type": "code",
        "colab": {
          "base_uri": "https://localhost:8080/",
          "height": 34
        },
        "outputId": "687dbf9b-4c0c-4f7b-8a99-70277797096e"
      },
      "source": [
        "print(\"Shapiro-Wilk normality test, W-statistic: %f, p-value: %f\" % stats.shapiro(data.Placebo))"
      ],
      "execution_count": 10,
      "outputs": [
        {
          "output_type": "stream",
          "text": [
            "Shapiro-Wilk normality test, W-statistic: 0.857487, p-value: 0.003020\n"
          ],
          "name": "stdout"
        }
      ]
    },
    {
      "cell_type": "code",
      "metadata": {
        "id": "vbICIMfLkuiR",
        "colab_type": "code",
        "colab": {
          "base_uri": "https://localhost:8080/",
          "height": 34
        },
        "outputId": "941f3d4a-3032-4deb-eda4-fc60f3a4996b"
      },
      "source": [
        "print(\"Shapiro-Wilk normality test, W-statistic: %f, p-value: %f\" % stats.shapiro(data.Methylphenidate))"
      ],
      "execution_count": 11,
      "outputs": [
        {
          "output_type": "stream",
          "text": [
            "Shapiro-Wilk normality test, W-statistic: 0.916445, p-value: 0.048768\n"
          ],
          "name": "stdout"
        }
      ]
    },
    {
      "cell_type": "markdown",
      "metadata": {
        "id": "mwOfcSYjlpRC",
        "colab_type": "text"
      },
      "source": [
        "Всё-таки ненормально, но близко"
      ]
    },
    {
      "cell_type": "markdown",
      "metadata": {
        "id": "ABtSUeSwkuiU",
        "colab_type": "text"
      },
      "source": [
        "С помощью критерия Стьюдента проверим гипотезу о развенстве средних двух выборок."
      ]
    },
    {
      "cell_type": "markdown",
      "metadata": {
        "id": "IygJ3oHzkuiU",
        "colab_type": "text"
      },
      "source": [
        "Критерий Стьюдента:\n",
        "\n",
        "$H_0\\colon$ средние значения способности к подавлению испульсивных поведенческих реакций одинаковы для пациентов, принимавших препарат, и для пациентов, принимавших плацебо.\n",
        "\n",
        "$H_0\\colon$ не одинаковы."
      ]
    },
    {
      "cell_type": "code",
      "metadata": {
        "id": "9pM2VTVPkuiV",
        "colab_type": "code",
        "colab": {
          "base_uri": "https://localhost:8080/",
          "height": 34
        },
        "outputId": "bea10731-7642-460e-d9e8-333346c8f9a4"
      },
      "source": [
        "scipy.stats.ttest_ind(data.Placebo, data.Methylphenidate, equal_var = False)"
      ],
      "execution_count": 12,
      "outputs": [
        {
          "output_type": "execute_result",
          "data": {
            "text/plain": [
              "Ttest_indResult(statistic=-1.4521635018159091, pvalue=0.1532919977404709)"
            ]
          },
          "metadata": {
            "tags": []
          },
          "execution_count": 12
        }
      ]
    },
    {
      "cell_type": "markdown",
      "metadata": {
        "id": "yXIah3EYl4fm",
        "colab_type": "text"
      },
      "source": [
        "p-v большое, значит, мы не можем отвергнуть нулевую гипотезу"
      ]
    },
    {
      "cell_type": "code",
      "metadata": {
        "id": "FCq9C-3xkuiX",
        "colab_type": "code",
        "colab": {},
        "outputId": "593a7f52-4224-4ae5-b96e-7cb5418796e9"
      },
      "source": [
        "cm = CompareMeans(DescrStatsW(data.Methylphenidate), DescrStatsW(data.Placebo))\n",
        "print(\"95%% confidence interval: [%f, %f]\" % cm.tconfint_diff(usevar='unequal'))"
      ],
      "execution_count": null,
      "outputs": [
        {
          "output_type": "stream",
          "text": [
            "95% confidence interval: [-1.915927, 11.832593]\n"
          ],
          "name": "stdout"
        }
      ]
    },
    {
      "cell_type": "markdown",
      "metadata": {
        "id": "Qkj2y18ymBbP",
        "colab_type": "text"
      },
      "source": [
        "0 лежит в интервале, сказать все еще сложно"
      ]
    },
    {
      "cell_type": "markdown",
      "metadata": {
        "id": "NJBXSMFVkuiZ",
        "colab_type": "text"
      },
      "source": [
        "## Двухвыборочный критерий Стьюдента (зависмые выборки)"
      ]
    },
    {
      "cell_type": "markdown",
      "metadata": {
        "id": "m6pNzgnCkuia",
        "colab_type": "text"
      },
      "source": [
        "Для того, чтобы использовать критерй Стьюдента для связанных выборок, давайте проверим, что распределение попарных разностей существенно не отличается от нормального."
      ]
    },
    {
      "cell_type": "code",
      "metadata": {
        "id": "fvPLIEHnkuia",
        "colab_type": "code",
        "colab": {
          "base_uri": "https://localhost:8080/",
          "height": 295
        },
        "outputId": "cc6a3366-5927-4fe4-acbb-a99b3f18b6a7"
      },
      "source": [
        "stats.probplot(data.Placebo - data.Methylphenidate, dist = \"norm\", plot = pylab)\n",
        "pylab.show()"
      ],
      "execution_count": 21,
      "outputs": [
        {
          "output_type": "display_data",
          "data": {
            "image/png": "[encoded data removed]",
            "text/plain": [
              "<Figure size 432x288 with 1 Axes>"
            ]
          },
          "metadata": {
            "tags": [],
            "needs_background": "light"
          }
        }
      ]
    },
    {
      "cell_type": "markdown",
      "metadata": {
        "id": "fcOzHf3rkuic",
        "colab_type": "text"
      },
      "source": [
        "Критерий Шапиро-Уилка:\n",
        "\n",
        "$H_0\\colon$ попарные разности распределены нормально.\n",
        "\n",
        "$H_1\\colon$ не нормально."
      ]
    },
    {
      "cell_type": "code",
      "metadata": {
        "id": "DMvi2-Eikuid",
        "colab_type": "code",
        "colab": {
          "base_uri": "https://localhost:8080/",
          "height": 34
        },
        "outputId": "4669308d-a16a-4aef-a04b-83b39dbb3c07"
      },
      "source": [
        "print(\"Shapiro-Wilk normality test, W-statistic: %f, p-value: %f\" % stats.shapiro(data.Methylphenidate - data.Placebo))"
      ],
      "execution_count": 22,
      "outputs": [
        {
          "output_type": "stream",
          "text": [
            "Shapiro-Wilk normality test, W-statistic: 0.979806, p-value: 0.892254\n"
          ],
          "name": "stdout"
        }
      ]
    },
    {
      "cell_type": "markdown",
      "metadata": {
        "id": "G2WLfWGUkuig",
        "colab_type": "text"
      },
      "source": [
        "Критерий Стьюдента:\n",
        "\n",
        "$H_0\\colon$ средние значения способности к подавлению испульсивных поведенческих реакций одинаковы для пациентов, принимавших препарат, и для пациентов, принимавших плацебо.\n",
        "\n",
        "$H_1\\colon$ не одинаковы."
      ]
    },
    {
      "cell_type": "code",
      "metadata": {
        "id": "-jX5vmP-kuig",
        "colab_type": "code",
        "colab": {
          "base_uri": "https://localhost:8080/",
          "height": 34
        },
        "outputId": "44e9b6d9-ce4c-41df-9e9b-4c1288f72049"
      },
      "source": [
        "stats.ttest_rel(data.Methylphenidate, data.Placebo)"
      ],
      "execution_count": 19,
      "outputs": [
        {
          "output_type": "execute_result",
          "data": {
            "text/plain": [
              "Ttest_relResult(statistic=3.2223624451230406, pvalue=0.003771488176381471)"
            ]
          },
          "metadata": {
            "tags": []
          },
          "execution_count": 19
        }
      ]
    },
    {
      "cell_type": "code",
      "metadata": {
        "id": "bI83M1bAkuii",
        "colab_type": "code",
        "colab": {
          "base_uri": "https://localhost:8080/",
          "height": 34
        },
        "outputId": "3fd510f0-19db-458e-ba9e-541b2a99e340"
      },
      "source": [
        "print(\"95%% confidence interval: [%f, %f]\" % DescrStatsW(data.Methylphenidate - data.Placebo).tconfint_mean())"
      ],
      "execution_count": 20,
      "outputs": [
        {
          "output_type": "stream",
          "text": [
            "95% confidence interval: [1.775236, 8.141431]\n"
          ],
          "name": "stdout"
        }
      ]
    }
  ]
}