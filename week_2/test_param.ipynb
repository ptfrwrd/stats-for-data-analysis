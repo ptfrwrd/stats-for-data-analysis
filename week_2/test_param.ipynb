{
  "nbformat": 4,
  "nbformat_minor": 0,
  "metadata": {
    "colab": {
      "name": "test_param.ipynb",
      "provenance": []
    },
    "kernelspec": {
      "name": "python3",
      "display_name": "Python 3"
    },
    "accelerator": "GPU"
  },
  "cells": [
    {
      "cell_type": "code",
      "metadata": {
        "id": "MA4RXoiaIfKm",
        "colab_type": "code",
        "colab": {}
      },
      "source": [
        "import numpy as np\n",
        "import pandas as pd\n",
        "import scipy\n",
        "from statsmodels.stats.weightstats import *\n",
        "from statsmodels.stats.proportion import proportion_confint"
      ],
      "execution_count": 7,
      "outputs": []
    },
    {
      "cell_type": "markdown",
      "metadata": {
        "id": "8-CYW2uQJNaM",
        "colab_type": "text"
      },
      "source": [
        "**Вопрос 3**\n",
        "\n",
        "В одном из выпусков программы \"Разрушители легенд\" проверялось, действительно ли заразительна зевота. В эксперименте участвовало 50 испытуемых, проходивших собеседование на программу. Каждый из них разговаривал с рекрутером; в конце 34 из 50 бесед рекрутер зевал. Затем испытуемых просили подождать решения рекрутера в соседней пустой комнате.\n",
        "\n",
        "Во время ожидания 10 из 34 испытуемых экспериментальной группы и 4 из 16 испытуемых контрольной начали зевать. Таким образом, разница в доле зевающих людей в этих двух группах составила примерно 4.4%. Ведущие заключили, что миф о заразительности зевоты подтверждён.\n",
        "\n",
        "Можно ли утверждать, что доли зевающих в контрольной и экспериментальной группах отличаются статистически значимо? Посчитайте достигаемый уровень значимости при альтернативе заразительности зевоты, округлите до четырёх знаков после десятичной точки."
      ]
    },
    {
      "cell_type": "code",
      "metadata": {
        "id": "H98ONO8BIoSA",
        "colab_type": "code",
        "colab": {}
      },
      "source": [
        "test = [1] * 10 + [0] * 24\n",
        "control = [1] * 4 + [0] * 12"
      ],
      "execution_count": 2,
      "outputs": []
    },
    {
      "cell_type": "code",
      "metadata": {
        "id": "q4ECXOLTJ2U1",
        "colab_type": "code",
        "colab": {}
      },
      "source": [
        "def proportions_diff_confint_ind(sample1, sample2, alpha = 0.05):    \n",
        "    z = scipy.stats.norm.ppf(1 - alpha / 2.)\n",
        "    \n",
        "    p1 = float(sum(sample1)) / len(sample1)\n",
        "    p2 = float(sum(sample2)) / len(sample2)\n",
        "    \n",
        "    left_boundary = (p1 - p2) - z * np.sqrt(p1 * (1 - p1)/ len(sample1) + p2 * (1 - p2)/ len(sample2))\n",
        "    right_boundary = (p1 - p2) + z * np.sqrt(p1 * (1 - p1)/ len(sample1) + p2 * (1 - p2)/ len(sample2))\n",
        "    \n",
        "    return (left_boundary, right_boundary)\n",
        "\n",
        "def proportions_diff_z_stat_ind(sample1, sample2):\n",
        "    n1 = len(sample1)\n",
        "    n2 = len(sample2)\n",
        "    \n",
        "    p1 = float(sum(sample1)) / n1\n",
        "    p2 = float(sum(sample2)) / n2 \n",
        "    P = float(p1*n1 + p2*n2) / (n1 + n2)\n",
        "    \n",
        "    return (p1 - p2) / np.sqrt(P * (1 - P) * (1. / n1 + 1. / n2))\n",
        "\n",
        "def proportions_diff_z_test(z_stat, alternative = 'two-sided'):\n",
        "    if alternative not in ('two-sided', 'less', 'greater'):\n",
        "        raise ValueError(\"alternative not recognized\\n\"\n",
        "                         \"should be 'two-sided', 'less' or 'greater'\")\n",
        "    \n",
        "    if alternative == 'two-sided':\n",
        "        return 2 * (1 - scipy.stats.norm.cdf(np.abs(z_stat)))\n",
        "    \n",
        "    if alternative == 'less':\n",
        "        return scipy.stats.norm.cdf(z_stat)\n",
        "\n",
        "    if alternative == 'greater':\n",
        "        return 1 - scipy.stats.norm.cdf(z_stat)"
      ],
      "execution_count": 33,
      "outputs": []
    },
    {
      "cell_type": "code",
      "metadata": {
        "id": "YHDwzgTrKEZA",
        "colab_type": "code",
        "colab": {
          "base_uri": "https://localhost:8080/",
          "height": 34
        },
        "outputId": "3d1080b7-0ae8-4e64-bd21-2fe66b44b8d1"
      },
      "source": [
        "round(proportions_diff_z_test(proportions_diff_z_stat_ind(control, test), 'less'),4)"
      ],
      "execution_count": 36,
      "outputs": [
        {
          "output_type": "execute_result",
          "data": {
            "text/plain": [
              "0.3729"
            ]
          },
          "metadata": {
            "tags": []
          },
          "execution_count": 36
        }
      ]
    },
    {
      "cell_type": "markdown",
      "metadata": {
        "id": "iJ6wCclaKh4y",
        "colab_type": "text"
      },
      "source": [
        "**Вопрос 4**\n",
        "\n",
        "Имеются данные измерений двухсот швейцарских тысячефранковых банкнот, бывших в обращении в первой половине XX века. Сто из банкнот были настоящими, и сто — поддельными. На рисунке ниже показаны измеренные признаки:\n",
        "\n",
        "Отделите 50 случайных наблюдений в тестовую выборку с помощью функции sklearn.cross_validation.train_test_split (зафиксируйте random state = 1). На оставшихся 150 настройте два классификатора поддельности банкнот:\n",
        "\n",
        "- логистическая регрессия по признакам X_1,X_2,X_3X;\n",
        "- логистическая регрессия по признакам X_4,X_5,X_6X;\n",
        "\n",
        "Каждым из классификаторов сделайте предсказания меток классов на тестовой выборке. Одинаковы ли доли ошибочных предсказаний двух классификаторов? Проверьте гипотезу, вычислите достигаемый уровень значимости. Введите номер первой значащей цифры"
      ]
    },
    {
      "cell_type": "code",
      "metadata": {
        "id": "TLFa8UYfKhVv",
        "colab_type": "code",
        "colab": {
          "base_uri": "https://localhost:8080/",
          "height": 419
        },
        "outputId": "827b3d7c-c0fb-4312-8788-f44fefa55220"
      },
      "source": [
        "data = pd.read_csv('banknotes.txt', sep = '\\t', header = 0)\n",
        "data"
      ],
      "execution_count": 8,
      "outputs": [
        {
          "output_type": "execute_result",
          "data": {
            "text/html": [
              "<div>\n",
              "<style scoped>\n",
              "    .dataframe tbody tr th:only-of-type {\n",
              "        vertical-align: middle;\n",
              "    }\n",
              "\n",
              "    .dataframe tbody tr th {\n",
              "        vertical-align: top;\n",
              "    }\n",
              "\n",
              "    .dataframe thead th {\n",
              "        text-align: right;\n",
              "    }\n",
              "</style>\n",
              "<table border=\"1\" class=\"dataframe\">\n",
              "  <thead>\n",
              "    <tr style=\"text-align: right;\">\n",
              "      <th></th>\n",
              "      <th>X1</th>\n",
              "      <th>X2</th>\n",
              "      <th>X3</th>\n",
              "      <th>X4</th>\n",
              "      <th>X5</th>\n",
              "      <th>X6</th>\n",
              "      <th>real</th>\n",
              "    </tr>\n",
              "  </thead>\n",
              "  <tbody>\n",
              "    <tr>\n",
              "      <th>0</th>\n",
              "      <td>214.8</td>\n",
              "      <td>131.0</td>\n",
              "      <td>131.1</td>\n",
              "      <td>9.0</td>\n",
              "      <td>9.7</td>\n",
              "      <td>141.0</td>\n",
              "      <td>1</td>\n",
              "    </tr>\n",
              "    <tr>\n",
              "      <th>1</th>\n",
              "      <td>214.6</td>\n",
              "      <td>129.7</td>\n",
              "      <td>129.7</td>\n",
              "      <td>8.1</td>\n",
              "      <td>9.5</td>\n",
              "      <td>141.7</td>\n",
              "      <td>1</td>\n",
              "    </tr>\n",
              "    <tr>\n",
              "      <th>2</th>\n",
              "      <td>214.8</td>\n",
              "      <td>129.7</td>\n",
              "      <td>129.7</td>\n",
              "      <td>8.7</td>\n",
              "      <td>9.6</td>\n",
              "      <td>142.2</td>\n",
              "      <td>1</td>\n",
              "    </tr>\n",
              "    <tr>\n",
              "      <th>3</th>\n",
              "      <td>214.8</td>\n",
              "      <td>129.7</td>\n",
              "      <td>129.6</td>\n",
              "      <td>7.5</td>\n",
              "      <td>10.4</td>\n",
              "      <td>142.0</td>\n",
              "      <td>1</td>\n",
              "    </tr>\n",
              "    <tr>\n",
              "      <th>4</th>\n",
              "      <td>215.0</td>\n",
              "      <td>129.6</td>\n",
              "      <td>129.7</td>\n",
              "      <td>10.4</td>\n",
              "      <td>7.7</td>\n",
              "      <td>141.8</td>\n",
              "      <td>1</td>\n",
              "    </tr>\n",
              "    <tr>\n",
              "      <th>...</th>\n",
              "      <td>...</td>\n",
              "      <td>...</td>\n",
              "      <td>...</td>\n",
              "      <td>...</td>\n",
              "      <td>...</td>\n",
              "      <td>...</td>\n",
              "      <td>...</td>\n",
              "    </tr>\n",
              "    <tr>\n",
              "      <th>195</th>\n",
              "      <td>215.0</td>\n",
              "      <td>130.4</td>\n",
              "      <td>130.3</td>\n",
              "      <td>9.9</td>\n",
              "      <td>12.1</td>\n",
              "      <td>139.6</td>\n",
              "      <td>0</td>\n",
              "    </tr>\n",
              "    <tr>\n",
              "      <th>196</th>\n",
              "      <td>215.1</td>\n",
              "      <td>130.3</td>\n",
              "      <td>129.9</td>\n",
              "      <td>10.3</td>\n",
              "      <td>11.5</td>\n",
              "      <td>139.7</td>\n",
              "      <td>0</td>\n",
              "    </tr>\n",
              "    <tr>\n",
              "      <th>197</th>\n",
              "      <td>214.8</td>\n",
              "      <td>130.3</td>\n",
              "      <td>130.4</td>\n",
              "      <td>10.6</td>\n",
              "      <td>11.1</td>\n",
              "      <td>140.0</td>\n",
              "      <td>0</td>\n",
              "    </tr>\n",
              "    <tr>\n",
              "      <th>198</th>\n",
              "      <td>214.7</td>\n",
              "      <td>130.7</td>\n",
              "      <td>130.8</td>\n",
              "      <td>11.2</td>\n",
              "      <td>11.2</td>\n",
              "      <td>139.4</td>\n",
              "      <td>0</td>\n",
              "    </tr>\n",
              "    <tr>\n",
              "      <th>199</th>\n",
              "      <td>214.3</td>\n",
              "      <td>129.9</td>\n",
              "      <td>129.9</td>\n",
              "      <td>10.2</td>\n",
              "      <td>11.5</td>\n",
              "      <td>139.6</td>\n",
              "      <td>0</td>\n",
              "    </tr>\n",
              "  </tbody>\n",
              "</table>\n",
              "<p>200 rows × 7 columns</p>\n",
              "</div>"
            ],
            "text/plain": [
              "        X1     X2     X3    X4    X5     X6  real\n",
              "0    214.8  131.0  131.1   9.0   9.7  141.0     1\n",
              "1    214.6  129.7  129.7   8.1   9.5  141.7     1\n",
              "2    214.8  129.7  129.7   8.7   9.6  142.2     1\n",
              "3    214.8  129.7  129.6   7.5  10.4  142.0     1\n",
              "4    215.0  129.6  129.7  10.4   7.7  141.8     1\n",
              "..     ...    ...    ...   ...   ...    ...   ...\n",
              "195  215.0  130.4  130.3   9.9  12.1  139.6     0\n",
              "196  215.1  130.3  129.9  10.3  11.5  139.7     0\n",
              "197  214.8  130.3  130.4  10.6  11.1  140.0     0\n",
              "198  214.7  130.7  130.8  11.2  11.2  139.4     0\n",
              "199  214.3  129.9  129.9  10.2  11.5  139.6     0\n",
              "\n",
              "[200 rows x 7 columns]"
            ]
          },
          "metadata": {
            "tags": []
          },
          "execution_count": 8
        }
      ]
    },
    {
      "cell_type": "code",
      "metadata": {
        "id": "-KcRdKqAK-ov",
        "colab_type": "code",
        "colab": {}
      },
      "source": [
        "from sklearn.model_selection import train_test_split\n",
        "\n",
        "X_train, X_test, y_train, y_test = train_test_split(data.drop(columns=['real']), data.real, test_size=0.25, random_state=1)"
      ],
      "execution_count": 68,
      "outputs": []
    },
    {
      "cell_type": "code",
      "metadata": {
        "id": "PmyucgdbSIM2",
        "colab_type": "code",
        "colab": {}
      },
      "source": [
        "X_train1 = X_train[['X1', 'X2', 'X3']]\n",
        "X_test1 = X_test[['X1', 'X2', 'X3']]\n",
        "\n",
        "X_train2 = X_train[['X4', 'X5', 'X6']]\n",
        "X_test2 = X_test[['X4', 'X5', 'X6']]"
      ],
      "execution_count": 69,
      "outputs": []
    },
    {
      "cell_type": "code",
      "metadata": {
        "id": "lgPxyw67LN4k",
        "colab_type": "code",
        "colab": {}
      },
      "source": [
        "from sklearn.linear_model import LogisticRegression\n",
        "\n",
        "cls = LogisticRegression()\n",
        "cls.fit(X_train1, y_train)\n",
        "predictions_1 = cls.predict(X_test1)"
      ],
      "execution_count": 70,
      "outputs": []
    },
    {
      "cell_type": "code",
      "metadata": {
        "id": "nQGcKpFRMBmg",
        "colab_type": "code",
        "colab": {}
      },
      "source": [
        "cls.fit(X_train2, y_train)\n",
        "predictions_2 = cls.predict(X_test2)"
      ],
      "execution_count": 71,
      "outputs": []
    },
    {
      "cell_type": "code",
      "metadata": {
        "id": "Au_2YtS1TSgc",
        "colab_type": "code",
        "colab": {}
      },
      "source": [
        "z_1 = abs(predictions_1 - y_test)\n",
        "z_2 = abs(predictions_2 - y_test)"
      ],
      "execution_count": 72,
      "outputs": []
    },
    {
      "cell_type": "code",
      "metadata": {
        "id": "PM0G2oVjM1ak",
        "colab_type": "code",
        "colab": {}
      },
      "source": [
        "def proportions_diff_z_stat_rel(sample1, sample2):\n",
        "    sample = list(zip(sample1, sample2))\n",
        "    n = len(sample)\n",
        "    \n",
        "    f = sum([1 if (x[0] == 1 and x[1] == 0) else 0 for x in sample])\n",
        "    g = sum([1 if (x[0] == 0 and x[1] == 1) else 0 for x in sample])\n",
        "    \n",
        "    return float(f - g) / np.sqrt(f + g - float((f - g)**2) / n )\n",
        "\n",
        "def proportions_diff_confint_rel(sample1, sample2, alpha = 0.05):\n",
        "    z = scipy.stats.norm.ppf(1 - alpha / 2.)\n",
        "    sample = list(zip(sample1, sample2))\n",
        "    n = len(sample)\n",
        "        \n",
        "    f = sum([1 if (x[0] == 1 and x[1] == 0) else 0 for x in sample])\n",
        "    g = sum([1 if (x[0] == 0 and x[1] == 1) else 0 for x in sample])\n",
        "    \n",
        "    left_boundary = float(f - g) / n  - z * np.sqrt(float((f + g)) / n**2 - float((f - g)**2) / n**3)\n",
        "    right_boundary = float(f - g) / n  + z * np.sqrt(float((f + g)) / n**2 - float((f - g)**2) / n**3)\n",
        "    return (left_boundary, right_boundary)"
      ],
      "execution_count": 73,
      "outputs": []
    },
    {
      "cell_type": "code",
      "metadata": {
        "id": "wb0pzAe1M6hh",
        "colab_type": "code",
        "colab": {
          "base_uri": "https://localhost:8080/",
          "height": 34
        },
        "outputId": "e8d249d5-012e-4ac0-936d-671273882f45"
      },
      "source": [
        "proportions_diff_z_test(proportions_diff_z_stat_rel(z_1, z_2))"
      ],
      "execution_count": 76,
      "outputs": [
        {
          "output_type": "execute_result",
          "data": {
            "text/plain": [
              "0.0009231887438696518"
            ]
          },
          "metadata": {
            "tags": []
          },
          "execution_count": 76
        }
      ]
    },
    {
      "cell_type": "markdown",
      "metadata": {
        "id": "J_jlvS38NXGP",
        "colab_type": "text"
      },
      "source": [
        "**Вопрос 5**\n",
        "\n",
        "В предыдущей задаче посчитайте 95% доверительный интервал для разности долей ошибок двух классификаторов. Чему равна его ближайшая к нулю граница? Округлите до четырёх знаков после десятичной точки."
      ]
    },
    {
      "cell_type": "code",
      "metadata": {
        "id": "Qad6T4uPNeS6",
        "colab_type": "code",
        "colab": {
          "base_uri": "https://localhost:8080/",
          "height": 34
        },
        "outputId": "3492ed40-36c9-4bfa-a82b-836c57cd0fed"
      },
      "source": [
        "proportions_diff_confint_rel(z_1, z_2)"
      ],
      "execution_count": 77,
      "outputs": [
        {
          "output_type": "execute_result",
          "data": {
            "text/plain": [
              "(0.0735106275786684, 0.2864893724213316)"
            ]
          },
          "metadata": {
            "tags": []
          },
          "execution_count": 77
        }
      ]
    },
    {
      "cell_type": "markdown",
      "metadata": {
        "id": "BYU-S9hWNpTi",
        "colab_type": "text"
      },
      "source": [
        "**Вопрос 6**\n",
        "\n",
        "\n",
        "Ежегодно более 200000 людей по всему миру сдают стандартизированный экзамен GMAT при поступлении на программы MBA. Средний результат составляет 525 баллов, стандартное отклонение — 100 баллов.\n",
        "\n",
        "Сто студентов закончили специальные подготовительные курсы и сдали экзамен. Средний полученный ими балл — 541.4. Проверьте гипотезу о неэффективности программы против односторонней альтернативы о том, что программа работает. Отвергается ли на уровне значимости 0.05 нулевая гипотеза? Введите достигаемый уровень значимости, округлённый до 4 знаков после десятичной точки."
      ]
    },
    {
      "cell_type": "code",
      "metadata": {
        "id": "48MZ0QRhNsg0",
        "colab_type": "code",
        "colab": {
          "base_uri": "https://localhost:8080/",
          "height": 34
        },
        "outputId": "0a1a5f7c-e73b-4028-96be-81e54ee280e4"
      },
      "source": [
        "z = (541.4 - 525) / (100 / np.sqrt(100))\n",
        "z"
      ],
      "execution_count": 25,
      "outputs": [
        {
          "output_type": "execute_result",
          "data": {
            "text/plain": [
              "1.6399999999999977"
            ]
          },
          "metadata": {
            "tags": []
          },
          "execution_count": 25
        }
      ]
    },
    {
      "cell_type": "code",
      "metadata": {
        "id": "Z2XMD-q2OGty",
        "colab_type": "code",
        "colab": {
          "base_uri": "https://localhost:8080/",
          "height": 34
        },
        "outputId": "d1edbcea-f427-4dfe-c633-4d26fd590935"
      },
      "source": [
        "round(1 - scipy.stats.norm.cdf(z), 4)"
      ],
      "execution_count": 26,
      "outputs": [
        {
          "output_type": "execute_result",
          "data": {
            "text/plain": [
              "0.0505"
            ]
          },
          "metadata": {
            "tags": []
          },
          "execution_count": 26
        }
      ]
    },
    {
      "cell_type": "markdown",
      "metadata": {
        "id": "UXgo1r7jOZr5",
        "colab_type": "text"
      },
      "source": [
        "**Вопрос 7**\n",
        "\n",
        "Оцените теперь эффективность подготовительных курсов, средний балл 100 выпускников которых равен 541.5. Отвергается ли на уровне значимости 0.05 та же самая нулевая гипотеза против той же самой альтернативы? Введите достигаемый уровень значимости, округлённый до 4 знаков после десятичной точки."
      ]
    },
    {
      "cell_type": "code",
      "metadata": {
        "id": "W0LL4ajaOVt5",
        "colab_type": "code",
        "colab": {
          "base_uri": "https://localhost:8080/",
          "height": 34
        },
        "outputId": "41862280-6fef-48f5-b9cf-7eb76c438fae"
      },
      "source": [
        "z = (541.5 - 525) / (100 / np.sqrt(100))\n",
        "round(1 - scipy.stats.norm.cdf(z), 4)"
      ],
      "execution_count": 27,
      "outputs": [
        {
          "output_type": "execute_result",
          "data": {
            "text/plain": [
              "0.0495"
            ]
          },
          "metadata": {
            "tags": []
          },
          "execution_count": 27
        }
      ]
    }
  ]
}