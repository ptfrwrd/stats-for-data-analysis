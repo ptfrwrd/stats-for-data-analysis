{
  "nbformat": 4,
  "nbformat_minor": 0,
  "metadata": {
    "colab": {
      "name": "test_corr.ipynb",
      "provenance": []
    },
    "kernelspec": {
      "name": "python3",
      "display_name": "Python 3"
    },
    "accelerator": "GPU"
  },
  "cells": [
    {
      "cell_type": "code",
      "metadata": {
        "id": "KdE-3M1o8QRM",
        "colab_type": "code",
        "colab": {}
      },
      "source": [
        "import pandas as pd\n",
        "import numpy as np"
      ],
      "execution_count": 1,
      "outputs": []
    },
    {
      "cell_type": "markdown",
      "metadata": {
        "id": "qiTdik3P9U-X",
        "colab_type": "text"
      },
      "source": [
        "**Question 1**\n",
        "\n",
        "Для 61 большого города в Англии и Уэльсе известны средняя годовая смертность на 100000 населения (по данным 1958–1964) и концентрация кальция в питьевой воде (в частях на маллион). Чем выше концентрация кальция, тем жёстче вода. Города дополнительно поделены на северные и южные.\n",
        "\n",
        "water.txt\n",
        "\n",
        "Есть ли связь между жёсткостью воды и средней годовой смертностью? Посчитайте значение коэффициента корреляции Пирсона между этими признаками, округлите его до четырёх знаков после десятичной точки."
      ]
    },
    {
      "cell_type": "code",
      "metadata": {
        "id": "mand5omw9UEP",
        "colab_type": "code",
        "colab": {
          "base_uri": "https://localhost:8080/",
          "height": 204
        },
        "outputId": "953bcfea-8feb-4e87-bd33-613234285c08"
      },
      "source": [
        "water = pd.read_csv('water.txt', sep = '\\t', header = 0)\n",
        "water.head()"
      ],
      "execution_count": 4,
      "outputs": [
        {
          "output_type": "execute_result",
          "data": {
            "text/html": [
              "<div>\n",
              "<style scoped>\n",
              "    .dataframe tbody tr th:only-of-type {\n",
              "        vertical-align: middle;\n",
              "    }\n",
              "\n",
              "    .dataframe tbody tr th {\n",
              "        vertical-align: top;\n",
              "    }\n",
              "\n",
              "    .dataframe thead th {\n",
              "        text-align: right;\n",
              "    }\n",
              "</style>\n",
              "<table border=\"1\" class=\"dataframe\">\n",
              "  <thead>\n",
              "    <tr style=\"text-align: right;\">\n",
              "      <th></th>\n",
              "      <th>location</th>\n",
              "      <th>town</th>\n",
              "      <th>mortality</th>\n",
              "      <th>hardness</th>\n",
              "    </tr>\n",
              "  </thead>\n",
              "  <tbody>\n",
              "    <tr>\n",
              "      <th>0</th>\n",
              "      <td>South</td>\n",
              "      <td>Bath</td>\n",
              "      <td>1247</td>\n",
              "      <td>105</td>\n",
              "    </tr>\n",
              "    <tr>\n",
              "      <th>1</th>\n",
              "      <td>North</td>\n",
              "      <td>Birkenhead</td>\n",
              "      <td>1668</td>\n",
              "      <td>17</td>\n",
              "    </tr>\n",
              "    <tr>\n",
              "      <th>2</th>\n",
              "      <td>South</td>\n",
              "      <td>Birmingham</td>\n",
              "      <td>1466</td>\n",
              "      <td>5</td>\n",
              "    </tr>\n",
              "    <tr>\n",
              "      <th>3</th>\n",
              "      <td>North</td>\n",
              "      <td>Blackburn</td>\n",
              "      <td>1800</td>\n",
              "      <td>14</td>\n",
              "    </tr>\n",
              "    <tr>\n",
              "      <th>4</th>\n",
              "      <td>North</td>\n",
              "      <td>Blackpool</td>\n",
              "      <td>1609</td>\n",
              "      <td>18</td>\n",
              "    </tr>\n",
              "  </tbody>\n",
              "</table>\n",
              "</div>"
            ],
            "text/plain": [
              "  location        town  mortality  hardness\n",
              "0    South        Bath       1247       105\n",
              "1    North  Birkenhead       1668        17\n",
              "2    South  Birmingham       1466         5\n",
              "3    North   Blackburn       1800        14\n",
              "4    North   Blackpool       1609        18"
            ]
          },
          "metadata": {
            "tags": []
          },
          "execution_count": 4
        }
      ]
    },
    {
      "cell_type": "code",
      "metadata": {
        "id": "oh0IvTRT9qYv",
        "colab_type": "code",
        "colab": {
          "base_uri": "https://localhost:8080/",
          "height": 111
        },
        "outputId": "877e337c-db8e-4e46-c1c3-88b1123c5a32"
      },
      "source": [
        "water_corr_pr = water[['mortality', 'hardness']].corr() \n",
        "round(water_corr_pr, 4)"
      ],
      "execution_count": 8,
      "outputs": [
        {
          "output_type": "execute_result",
          "data": {
            "text/html": [
              "<div>\n",
              "<style scoped>\n",
              "    .dataframe tbody tr th:only-of-type {\n",
              "        vertical-align: middle;\n",
              "    }\n",
              "\n",
              "    .dataframe tbody tr th {\n",
              "        vertical-align: top;\n",
              "    }\n",
              "\n",
              "    .dataframe thead th {\n",
              "        text-align: right;\n",
              "    }\n",
              "</style>\n",
              "<table border=\"1\" class=\"dataframe\">\n",
              "  <thead>\n",
              "    <tr style=\"text-align: right;\">\n",
              "      <th></th>\n",
              "      <th>mortality</th>\n",
              "      <th>hardness</th>\n",
              "    </tr>\n",
              "  </thead>\n",
              "  <tbody>\n",
              "    <tr>\n",
              "      <th>mortality</th>\n",
              "      <td>1.0000</td>\n",
              "      <td>-0.6548</td>\n",
              "    </tr>\n",
              "    <tr>\n",
              "      <th>hardness</th>\n",
              "      <td>-0.6548</td>\n",
              "      <td>1.0000</td>\n",
              "    </tr>\n",
              "  </tbody>\n",
              "</table>\n",
              "</div>"
            ],
            "text/plain": [
              "           mortality  hardness\n",
              "mortality     1.0000   -0.6548\n",
              "hardness     -0.6548    1.0000"
            ]
          },
          "metadata": {
            "tags": []
          },
          "execution_count": 8
        }
      ]
    },
    {
      "cell_type": "markdown",
      "metadata": {
        "id": "q3MsZ98Y-hkO",
        "colab_type": "text"
      },
      "source": [
        "\n",
        "**Question 2**\n",
        "\n",
        "В предыдущей задаче посчитайте значение коэффициента корреляции Спирмена между средней годовой смертностью и жёсткостью воды. Округлите до четырёх знаков после десятичной точки."
      ]
    },
    {
      "cell_type": "code",
      "metadata": {
        "id": "zg9x1FHy-PZ3",
        "colab_type": "code",
        "colab": {
          "base_uri": "https://localhost:8080/",
          "height": 111
        },
        "outputId": "c706e660-b930-408d-9d66-63d399db2dba"
      },
      "source": [
        "water_corr_spr = water[['mortality', 'hardness']].corr(method='spearman') \n",
        "round(water_corr_spr, 4)"
      ],
      "execution_count": 9,
      "outputs": [
        {
          "output_type": "execute_result",
          "data": {
            "text/html": [
              "<div>\n",
              "<style scoped>\n",
              "    .dataframe tbody tr th:only-of-type {\n",
              "        vertical-align: middle;\n",
              "    }\n",
              "\n",
              "    .dataframe tbody tr th {\n",
              "        vertical-align: top;\n",
              "    }\n",
              "\n",
              "    .dataframe thead th {\n",
              "        text-align: right;\n",
              "    }\n",
              "</style>\n",
              "<table border=\"1\" class=\"dataframe\">\n",
              "  <thead>\n",
              "    <tr style=\"text-align: right;\">\n",
              "      <th></th>\n",
              "      <th>mortality</th>\n",
              "      <th>hardness</th>\n",
              "    </tr>\n",
              "  </thead>\n",
              "  <tbody>\n",
              "    <tr>\n",
              "      <th>mortality</th>\n",
              "      <td>1.0000</td>\n",
              "      <td>-0.6317</td>\n",
              "    </tr>\n",
              "    <tr>\n",
              "      <th>hardness</th>\n",
              "      <td>-0.6317</td>\n",
              "      <td>1.0000</td>\n",
              "    </tr>\n",
              "  </tbody>\n",
              "</table>\n",
              "</div>"
            ],
            "text/plain": [
              "           mortality  hardness\n",
              "mortality     1.0000   -0.6317\n",
              "hardness     -0.6317    1.0000"
            ]
          },
          "metadata": {
            "tags": []
          },
          "execution_count": 9
        }
      ]
    },
    {
      "cell_type": "markdown",
      "metadata": {
        "id": "LMgSeNhg-k60",
        "colab_type": "text"
      },
      "source": [
        "**Question 3**\n",
        "\n",
        "Сохраняется ли связь между признаками, если разбить выборку на северные и южные города? Посчитайте значения корреляции Пирсона между средней годовой смертностью и жёсткостью воды в каждой из двух подвыборок, введите наименьшее по модулю из двух значений, округлив его до четырёх знаков после десятичной точки."
      ]
    },
    {
      "cell_type": "code",
      "metadata": {
        "id": "63HCMSFm-osc",
        "colab_type": "code",
        "colab": {}
      },
      "source": [
        "water_south = water.loc[water['location']=='South']\n",
        "water_north = water.loc[water['location']=='North']"
      ],
      "execution_count": 11,
      "outputs": []
    },
    {
      "cell_type": "code",
      "metadata": {
        "id": "gulAOKOa-7_3",
        "colab_type": "code",
        "colab": {
          "base_uri": "https://localhost:8080/",
          "height": 111
        },
        "outputId": "81b74bf8-daa8-4a02-ec2b-6295b2d6fc37"
      },
      "source": [
        "water_corr_pr = water_south[['mortality', 'hardness']].corr() \n",
        "round(water_corr_pr, 4)"
      ],
      "execution_count": 12,
      "outputs": [
        {
          "output_type": "execute_result",
          "data": {
            "text/html": [
              "<div>\n",
              "<style scoped>\n",
              "    .dataframe tbody tr th:only-of-type {\n",
              "        vertical-align: middle;\n",
              "    }\n",
              "\n",
              "    .dataframe tbody tr th {\n",
              "        vertical-align: top;\n",
              "    }\n",
              "\n",
              "    .dataframe thead th {\n",
              "        text-align: right;\n",
              "    }\n",
              "</style>\n",
              "<table border=\"1\" class=\"dataframe\">\n",
              "  <thead>\n",
              "    <tr style=\"text-align: right;\">\n",
              "      <th></th>\n",
              "      <th>mortality</th>\n",
              "      <th>hardness</th>\n",
              "    </tr>\n",
              "  </thead>\n",
              "  <tbody>\n",
              "    <tr>\n",
              "      <th>mortality</th>\n",
              "      <td>1.0000</td>\n",
              "      <td>-0.6022</td>\n",
              "    </tr>\n",
              "    <tr>\n",
              "      <th>hardness</th>\n",
              "      <td>-0.6022</td>\n",
              "      <td>1.0000</td>\n",
              "    </tr>\n",
              "  </tbody>\n",
              "</table>\n",
              "</div>"
            ],
            "text/plain": [
              "           mortality  hardness\n",
              "mortality     1.0000   -0.6022\n",
              "hardness     -0.6022    1.0000"
            ]
          },
          "metadata": {
            "tags": []
          },
          "execution_count": 12
        }
      ]
    },
    {
      "cell_type": "code",
      "metadata": {
        "id": "xHj2MWLa_ARp",
        "colab_type": "code",
        "colab": {
          "base_uri": "https://localhost:8080/",
          "height": 111
        },
        "outputId": "5a91d054-246a-4ce4-dba4-e9856622d2b7"
      },
      "source": [
        "water_corr_pr = water_north[['mortality', 'hardness']].corr() \n",
        "round(water_corr_pr, 4)"
      ],
      "execution_count": 13,
      "outputs": [
        {
          "output_type": "execute_result",
          "data": {
            "text/html": [
              "<div>\n",
              "<style scoped>\n",
              "    .dataframe tbody tr th:only-of-type {\n",
              "        vertical-align: middle;\n",
              "    }\n",
              "\n",
              "    .dataframe tbody tr th {\n",
              "        vertical-align: top;\n",
              "    }\n",
              "\n",
              "    .dataframe thead th {\n",
              "        text-align: right;\n",
              "    }\n",
              "</style>\n",
              "<table border=\"1\" class=\"dataframe\">\n",
              "  <thead>\n",
              "    <tr style=\"text-align: right;\">\n",
              "      <th></th>\n",
              "      <th>mortality</th>\n",
              "      <th>hardness</th>\n",
              "    </tr>\n",
              "  </thead>\n",
              "  <tbody>\n",
              "    <tr>\n",
              "      <th>mortality</th>\n",
              "      <td>1.0000</td>\n",
              "      <td>-0.3686</td>\n",
              "    </tr>\n",
              "    <tr>\n",
              "      <th>hardness</th>\n",
              "      <td>-0.3686</td>\n",
              "      <td>1.0000</td>\n",
              "    </tr>\n",
              "  </tbody>\n",
              "</table>\n",
              "</div>"
            ],
            "text/plain": [
              "           mortality  hardness\n",
              "mortality     1.0000   -0.3686\n",
              "hardness     -0.3686    1.0000"
            ]
          },
          "metadata": {
            "tags": []
          },
          "execution_count": 13
        }
      ]
    },
    {
      "cell_type": "markdown",
      "metadata": {
        "id": "kP9tG7aV_JMu",
        "colab_type": "text"
      },
      "source": [
        "**Question 4**\n",
        "\n",
        "Среди респондентов General Social Survey 2014 года \n",
        "* хотя бы раз в месяц проводят вечер в баре 203 женщины и 239 мужчин; \n",
        "\n",
        "* реже, чем раз в месяц, это делают 718 женщин и 515 мужчин.\n",
        "\n",
        "Посчитайте значение коэффициента корреляции Мэтьюса между полом и частотой похода в бары. Округлите значение до трёх знаков после десятичной точки."
      ]
    },
    {
      "cell_type": "code",
      "metadata": {
        "id": "66G4Xthv_KWV",
        "colab_type": "code",
        "colab": {
          "base_uri": "https://localhost:8080/",
          "height": 34
        },
        "outputId": "5fa2c512-5109-4b45-c464-d382d63957d7"
      },
      "source": [
        "a = 718.0\n",
        "b = 203.0\n",
        "c = 515.0\n",
        "d = 239.0\n",
        "mcc = (a*d - b*c)/np.sqrt((a+b)*(a+c)*(b+d)*(c+d))\n",
        "round(mcc, 3)"
      ],
      "execution_count": 14,
      "outputs": [
        {
          "output_type": "execute_result",
          "data": {
            "text/plain": [
              "0.109"
            ]
          },
          "metadata": {
            "tags": []
          },
          "execution_count": 14
        }
      ]
    },
    {
      "cell_type": "markdown",
      "metadata": {
        "id": "DHTnqapD_fBl",
        "colab_type": "text"
      },
      "source": [
        "**Question 5**\n",
        "\n",
        "В предыдущей задаче проверьте, значимо ли коэффициент корреляции Мэтьюса отличается от нуля. Посчитайте достигаемый уровень значимости; используйте функцию scipy.stats.chi2_contingency. Введите номер первой значащей цифры."
      ]
    },
    {
      "cell_type": "code",
      "metadata": {
        "id": "DfBN50y7_jbs",
        "colab_type": "code",
        "colab": {
          "base_uri": "https://localhost:8080/",
          "height": 102
        },
        "outputId": "a37d9b04-2253-412f-d79e-eb01a9f403ce"
      },
      "source": [
        "from scipy import stats\n",
        "\n",
        "\n",
        "stats.chi2_contingency(np.array([[a, b], [c, d]]))"
      ],
      "execution_count": 15,
      "outputs": [
        {
          "output_type": "execute_result",
          "data": {
            "text/plain": [
              "(19.40753078854304,\n",
              " 1.0558987006638725e-05,\n",
              " 1,\n",
              " array([[677.96597015, 243.03402985],\n",
              "        [555.03402985, 198.96597015]]))"
            ]
          },
          "metadata": {
            "tags": []
          },
          "execution_count": 15
        }
      ]
    },
    {
      "cell_type": "markdown",
      "metadata": {
        "id": "Yr6Pl61Z_z1m",
        "colab_type": "text"
      },
      "source": [
        "**Question 6**\n",
        "\n",
        "В предыдущей задаче давайте попробуем ответить на немного другой вопрос: отличаются ли доля мужчин и доля женщин, относительно часто проводящих вечера в баре? Постройте 95% доверительный интервал для разности долей, вычитая долю женщин из доли мужчин. Чему равна его нижняя граница? Округлите до четырёх знаков после десятичной точки."
      ]
    },
    {
      "cell_type": "code",
      "metadata": {
        "id": "hyzyLA29_4X4",
        "colab_type": "code",
        "colab": {
          "base_uri": "https://localhost:8080/",
          "height": 34
        },
        "outputId": "42c29ed2-fcb8-4b11-d58a-5c4c784b67fd"
      },
      "source": [
        "def proportions_confint_diff_ind(sample1, sample2, alpha = 0.05):    \n",
        "    z = stats.norm.ppf(1 - alpha / 2.)   \n",
        "    p1 = float(sum(sample1)) / len(sample1)\n",
        "    p2 = float(sum(sample2)) / len(sample2)\n",
        "    \n",
        "    left_boundary = (p1 - p2) - z * np.sqrt(p1 * (1 - p1)/ len(sample1) + p2 * (1 - p2)/ len(sample2))\n",
        "    right_boundary = (p1 - p2) + z * np.sqrt(p1 * (1 - p1)/ len(sample1) + p2 * (1 - p2)/ len(sample2))\n",
        "    \n",
        "    return (left_boundary, right_boundary)\n",
        "\n",
        "\n",
        "mens = [0]*515 + [1]*239\n",
        "womens = [0]*718 + [1]*203\n",
        "answer = proportions_confint_diff_ind(mens, womens)\n",
        "round(answer[0], 4)"
      ],
      "execution_count": 16,
      "outputs": [
        {
          "output_type": "execute_result",
          "data": {
            "text/plain": [
              "0.0539"
            ]
          },
          "metadata": {
            "tags": []
          },
          "execution_count": 16
        }
      ]
    },
    {
      "cell_type": "markdown",
      "metadata": {
        "id": "-TzVXponABrx",
        "colab_type": "text"
      },
      "source": [
        "**Question 7**\n",
        "\n",
        "Проверьте гипотезу о равенстве долей любителей часто проводить вечера в баре среди мужчин и женщин. Посчитайте достигаемый уровень значимости, используя двустороннюю альтернативу. Введите номер первой значащей цифры"
      ]
    },
    {
      "cell_type": "code",
      "metadata": {
        "id": "o2ON1XvRAGFR",
        "colab_type": "code",
        "colab": {
          "base_uri": "https://localhost:8080/",
          "height": 34
        },
        "outputId": "be1fd1a9-0d37-4751-cc10-38d2377514ea"
      },
      "source": [
        "stats.ttest_ind(mens, womens)"
      ],
      "execution_count": 17,
      "outputs": [
        {
          "output_type": "execute_result",
          "data": {
            "text/plain": [
              "Ttest_indResult(statistic=4.485175262463444, pvalue=7.78139336142543e-06)"
            ]
          },
          "metadata": {
            "tags": []
          },
          "execution_count": 17
        }
      ]
    },
    {
      "cell_type": "markdown",
      "metadata": {
        "id": "5y2wxTNrAVoU",
        "colab_type": "text"
      },
      "source": [
        "**Question 8**\n",
        "\n",
        "Посмотрим на данные General Social Survey 2014 года и проанализируем, как связаны ответы на вопросы \"Счастливы ли вы?\" и \"Довольны ли вы вашим финансовым положением?\"\n",
        "\n",
        "Не доволен  \tБолее или менее\t   Доволен\n",
        "\n",
        "\n",
        "---\n",
        "\n",
        "\n",
        "Не очень счастлив\t197\t111\t33\n",
        "\n",
        "\n",
        "---\n",
        "\n",
        "\n",
        "Достаточно счастлив\t382\t685\t331\n",
        "\n",
        "\n",
        "---\n",
        "\n",
        "\n",
        "Очень счастлив\t110\t342\t333\n",
        "\n",
        "\n",
        "---\n",
        "\n",
        "\n",
        "Чему равно значение статистики хи-квадрат для этой таблицы сопряжённости? Округлите ответ до четырёх знаков после десятичной точки."
      ]
    },
    {
      "cell_type": "code",
      "metadata": {
        "id": "0okI9ro-AlH5",
        "colab_type": "code",
        "colab": {
          "base_uri": "https://localhost:8080/",
          "height": 119
        },
        "outputId": "13a09085-8d98-43fe-fc6f-3bacb333c2a9"
      },
      "source": [
        "contingencyTable = np.array([[197, 111, 33], [382, 685, 331], [110, 342, 333]])\n",
        "stats.chi2_contingency(contingencyTable)"
      ],
      "execution_count": 20,
      "outputs": [
        {
          "output_type": "execute_result",
          "data": {
            "text/plain": [
              "(293.68311039689746,\n",
              " 2.4964299580093467e-62,\n",
              " 4,\n",
              " array([[ 93.08597464, 153.74722662,  94.16679873],\n",
              "        [381.6251981 , 630.318542  , 386.0562599 ],\n",
              "        [214.28882726, 353.93423138, 216.77694136]]))"
            ]
          },
          "metadata": {
            "tags": []
          },
          "execution_count": 20
        }
      ]
    },
    {
      "cell_type": "markdown",
      "metadata": {
        "id": "3GIAzjJjA29r",
        "colab_type": "text"
      },
      "source": [
        "**Question 10**\n",
        "\n",
        "Чему в предыдущей задаче равно значение коэффициента V Крамера для рассматриваемых признаков? Округлите ответ до четырёх знаков после десятичной точки."
      ]
    },
    {
      "cell_type": "code",
      "metadata": {
        "id": "ssmPBoCgA57z",
        "colab_type": "code",
        "colab": {
          "base_uri": "https://localhost:8080/",
          "height": 34
        },
        "outputId": "881556f6-cb0b-414c-9092-cadfc3585c5b"
      },
      "source": [
        "n = sum([sum(x) for x in contingencyTable])\n",
        "phi_cramera = np.sqrt(293.68311039689746 / (n * 2))\n",
        "round(phi_cramera,4)"
      ],
      "execution_count": 24,
      "outputs": [
        {
          "output_type": "execute_result",
          "data": {
            "text/plain": [
              "0.2412"
            ]
          },
          "metadata": {
            "tags": []
          },
          "execution_count": 24
        }
      ]
    }
  ]
}