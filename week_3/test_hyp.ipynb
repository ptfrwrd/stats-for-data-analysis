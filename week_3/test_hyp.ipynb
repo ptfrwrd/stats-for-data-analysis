{
  "nbformat": 4,
  "nbformat_minor": 0,
  "metadata": {
    "colab": {
      "name": "test_hyp.ipynb",
      "provenance": []
    },
    "kernelspec": {
      "name": "python3",
      "display_name": "Python 3"
    },
    "accelerator": "GPU"
  },
  "cells": [
    {
      "cell_type": "code",
      "metadata": {
        "id": "uSIwW7xcgNMD",
        "colab_type": "code",
        "colab": {}
      },
      "source": [
        "import pandas as pd\n",
        "import numpy as np\n",
        "\n",
        "from scipy import stats\n",
        "from scipy.stats import pearsonr\n",
        "from statsmodels.sandbox.stats.multicomp import multipletests "
      ],
      "execution_count": 6,
      "outputs": []
    },
    {
      "cell_type": "markdown",
      "metadata": {
        "id": "RlGnEvXAjGjQ",
        "colab_type": "text"
      },
      "source": [
        "**Question 2**\n",
        "\n",
        "Классификатор C4.5 и три его модификации: с оптимизацией гиперпараметра m, гиперпараметра cf и с одновременной оптимизацией обоих гиперпараметров. Эти четыре классификатора сравнивались на 14 наборах данных. На каждом датасете был посчитан AUC каждого классификатора. Данные записаны в файле:\n",
        "\n",
        "AUCs.txt\n",
        "\n",
        "\n",
        "Используя критерий знаковых рангов, проведите попарное сравнение каждого классификатора с каждым. Выберите два классификатора, различие между которыми наиболее статистически значимо."
      ]
    },
    {
      "cell_type": "code",
      "metadata": {
        "id": "Ias3fl4QjIUU",
        "colab_type": "code",
        "colab": {
          "base_uri": "https://localhost:8080/",
          "height": 204
        },
        "outputId": "a6d72e56-57c8-47ea-ad90-2e16234ac4ac"
      },
      "source": [
        "aucs  = pd.read_csv('AUCs.txt', sep = '\\t', header = 0)\n",
        "aucs.head()"
      ],
      "execution_count": 4,
      "outputs": [
        {
          "output_type": "execute_result",
          "data": {
            "text/html": [
              "<div>\n",
              "<style scoped>\n",
              "    .dataframe tbody tr th:only-of-type {\n",
              "        vertical-align: middle;\n",
              "    }\n",
              "\n",
              "    .dataframe tbody tr th {\n",
              "        vertical-align: top;\n",
              "    }\n",
              "\n",
              "    .dataframe thead th {\n",
              "        text-align: right;\n",
              "    }\n",
              "</style>\n",
              "<table border=\"1\" class=\"dataframe\">\n",
              "  <thead>\n",
              "    <tr style=\"text-align: right;\">\n",
              "      <th></th>\n",
              "      <th>Unnamed: 0</th>\n",
              "      <th>C4.5</th>\n",
              "      <th>C4.5+m</th>\n",
              "      <th>C4.5+cf</th>\n",
              "      <th>C4.5+m+cf</th>\n",
              "    </tr>\n",
              "  </thead>\n",
              "  <tbody>\n",
              "    <tr>\n",
              "      <th>0</th>\n",
              "      <td>adult (sample)</td>\n",
              "      <td>0.763</td>\n",
              "      <td>0.768</td>\n",
              "      <td>0.771</td>\n",
              "      <td>0.798</td>\n",
              "    </tr>\n",
              "    <tr>\n",
              "      <th>1</th>\n",
              "      <td>breast cancer</td>\n",
              "      <td>0.599</td>\n",
              "      <td>0.591</td>\n",
              "      <td>0.590</td>\n",
              "      <td>0.569</td>\n",
              "    </tr>\n",
              "    <tr>\n",
              "      <th>2</th>\n",
              "      <td>breast cancer wisconsin</td>\n",
              "      <td>0.954</td>\n",
              "      <td>0.971</td>\n",
              "      <td>0.968</td>\n",
              "      <td>0.967</td>\n",
              "    </tr>\n",
              "    <tr>\n",
              "      <th>3</th>\n",
              "      <td>cmc</td>\n",
              "      <td>0.628</td>\n",
              "      <td>0.661</td>\n",
              "      <td>0.654</td>\n",
              "      <td>0.657</td>\n",
              "    </tr>\n",
              "    <tr>\n",
              "      <th>4</th>\n",
              "      <td>ionosphere</td>\n",
              "      <td>0.882</td>\n",
              "      <td>0.888</td>\n",
              "      <td>0.886</td>\n",
              "      <td>0.898</td>\n",
              "    </tr>\n",
              "  </tbody>\n",
              "</table>\n",
              "</div>"
            ],
            "text/plain": [
              "                Unnamed: 0   C4.5  C4.5+m  C4.5+cf  C4.5+m+cf\n",
              "0           adult (sample)  0.763   0.768    0.771      0.798\n",
              "1            breast cancer  0.599   0.591    0.590      0.569\n",
              "2  breast cancer wisconsin  0.954   0.971    0.968      0.967\n",
              "3                      cmc  0.628   0.661    0.654      0.657\n",
              "4               ionosphere  0.882   0.888    0.886      0.898"
            ]
          },
          "metadata": {
            "tags": []
          },
          "execution_count": 4
        }
      ]
    },
    {
      "cell_type": "code",
      "metadata": {
        "id": "YGO-1H0tjqho",
        "colab_type": "code",
        "colab": {
          "base_uri": "https://localhost:8080/",
          "height": 51
        },
        "outputId": "78aacc2d-1a57-4bf4-f568-3a5dd578dfd4"
      },
      "source": [
        "%%time\n",
        "p_data = []\n",
        "\n",
        "for i, lhs_column in enumerate(aucs.columns[1:]):\n",
        "    for j, rhs_column in enumerate(aucs.columns[1:]):\n",
        "        if i >= j:\n",
        "            continue\n",
        "        \n",
        "        _, p = stats.wilcoxon(aucs[lhs_column], aucs[rhs_column])\n",
        "        p_data.append([lhs_column, rhs_column, p])"
      ],
      "execution_count": 8,
      "outputs": [
        {
          "output_type": "stream",
          "text": [
            "CPU times: user 3.29 ms, sys: 3.07 ms, total: 6.36 ms\n",
            "Wall time: 5.26 ms\n"
          ],
          "name": "stdout"
        }
      ]
    },
    {
      "cell_type": "code",
      "metadata": {
        "id": "WMoCupYWkBon",
        "colab_type": "code",
        "colab": {
          "base_uri": "https://localhost:8080/",
          "height": 235
        },
        "outputId": "3cfcd42e-12c2-4105-e0e1-3a67eb6e6a30"
      },
      "source": [
        "auc_p = pd.DataFrame.from_records(p_data)\n",
        "auc_p.columns = ['A', 'B', 'p']\n",
        "auc_p"
      ],
      "execution_count": 10,
      "outputs": [
        {
          "output_type": "execute_result",
          "data": {
            "text/html": [
              "<div>\n",
              "<style scoped>\n",
              "    .dataframe tbody tr th:only-of-type {\n",
              "        vertical-align: middle;\n",
              "    }\n",
              "\n",
              "    .dataframe tbody tr th {\n",
              "        vertical-align: top;\n",
              "    }\n",
              "\n",
              "    .dataframe thead th {\n",
              "        text-align: right;\n",
              "    }\n",
              "</style>\n",
              "<table border=\"1\" class=\"dataframe\">\n",
              "  <thead>\n",
              "    <tr style=\"text-align: right;\">\n",
              "      <th></th>\n",
              "      <th>A</th>\n",
              "      <th>B</th>\n",
              "      <th>p</th>\n",
              "    </tr>\n",
              "  </thead>\n",
              "  <tbody>\n",
              "    <tr>\n",
              "      <th>0</th>\n",
              "      <td>C4.5</td>\n",
              "      <td>C4.5+m</td>\n",
              "      <td>0.010757</td>\n",
              "    </tr>\n",
              "    <tr>\n",
              "      <th>1</th>\n",
              "      <td>C4.5</td>\n",
              "      <td>C4.5+cf</td>\n",
              "      <td>0.861262</td>\n",
              "    </tr>\n",
              "    <tr>\n",
              "      <th>2</th>\n",
              "      <td>C4.5</td>\n",
              "      <td>C4.5+m+cf</td>\n",
              "      <td>0.015906</td>\n",
              "    </tr>\n",
              "    <tr>\n",
              "      <th>3</th>\n",
              "      <td>C4.5+m</td>\n",
              "      <td>C4.5+cf</td>\n",
              "      <td>0.046333</td>\n",
              "    </tr>\n",
              "    <tr>\n",
              "      <th>4</th>\n",
              "      <td>C4.5+m</td>\n",
              "      <td>C4.5+m+cf</td>\n",
              "      <td>0.327826</td>\n",
              "    </tr>\n",
              "    <tr>\n",
              "      <th>5</th>\n",
              "      <td>C4.5+cf</td>\n",
              "      <td>C4.5+m+cf</td>\n",
              "      <td>0.022909</td>\n",
              "    </tr>\n",
              "  </tbody>\n",
              "</table>\n",
              "</div>"
            ],
            "text/plain": [
              "         A          B         p\n",
              "0     C4.5     C4.5+m  0.010757\n",
              "1     C4.5    C4.5+cf  0.861262\n",
              "2     C4.5  C4.5+m+cf  0.015906\n",
              "3   C4.5+m    C4.5+cf  0.046333\n",
              "4   C4.5+m  C4.5+m+cf  0.327826\n",
              "5  C4.5+cf  C4.5+m+cf  0.022909"
            ]
          },
          "metadata": {
            "tags": []
          },
          "execution_count": 10
        }
      ]
    },
    {
      "cell_type": "markdown",
      "metadata": {
        "id": "1EylI8Nqkji8",
        "colab_type": "text"
      },
      "source": [
        "**Question 5**\n",
        "\n",
        "Сравнивая 4 классификатора между собой, мы проверили 6 гипотез. Давайте сделаем поправку на множественную проверку. Начнём с метода Холма. Сколько гипотез можно отвергнуть на уровне значимости 0.05 после поправки этим методом?"
      ]
    },
    {
      "cell_type": "code",
      "metadata": {
        "id": "7c-i_XlzlHHd",
        "colab_type": "code",
        "colab": {
          "base_uri": "https://localhost:8080/",
          "height": 235
        },
        "outputId": "42f0cf4f-3709-475d-91d9-58a71686c96d"
      },
      "source": [
        "reject, p_corrected, a1, a2 = multipletests(auc_p.p, \n",
        "                                            alpha = 0.05, \n",
        "                                            method = 'holm')\n",
        "\n",
        "auc_p['p_corrected'] = p_corrected\n",
        "auc_p['reject'] = reject\n",
        "auc_p"
      ],
      "execution_count": 13,
      "outputs": [
        {
          "output_type": "execute_result",
          "data": {
            "text/html": [
              "<div>\n",
              "<style scoped>\n",
              "    .dataframe tbody tr th:only-of-type {\n",
              "        vertical-align: middle;\n",
              "    }\n",
              "\n",
              "    .dataframe tbody tr th {\n",
              "        vertical-align: top;\n",
              "    }\n",
              "\n",
              "    .dataframe thead th {\n",
              "        text-align: right;\n",
              "    }\n",
              "</style>\n",
              "<table border=\"1\" class=\"dataframe\">\n",
              "  <thead>\n",
              "    <tr style=\"text-align: right;\">\n",
              "      <th></th>\n",
              "      <th>A</th>\n",
              "      <th>B</th>\n",
              "      <th>p</th>\n",
              "      <th>p_corrected</th>\n",
              "      <th>reject</th>\n",
              "    </tr>\n",
              "  </thead>\n",
              "  <tbody>\n",
              "    <tr>\n",
              "      <th>0</th>\n",
              "      <td>C4.5</td>\n",
              "      <td>C4.5+m</td>\n",
              "      <td>0.010757</td>\n",
              "      <td>0.064543</td>\n",
              "      <td>False</td>\n",
              "    </tr>\n",
              "    <tr>\n",
              "      <th>1</th>\n",
              "      <td>C4.5</td>\n",
              "      <td>C4.5+cf</td>\n",
              "      <td>0.861262</td>\n",
              "      <td>0.861262</td>\n",
              "      <td>False</td>\n",
              "    </tr>\n",
              "    <tr>\n",
              "      <th>2</th>\n",
              "      <td>C4.5</td>\n",
              "      <td>C4.5+m+cf</td>\n",
              "      <td>0.015906</td>\n",
              "      <td>0.079532</td>\n",
              "      <td>False</td>\n",
              "    </tr>\n",
              "    <tr>\n",
              "      <th>3</th>\n",
              "      <td>C4.5+m</td>\n",
              "      <td>C4.5+cf</td>\n",
              "      <td>0.046333</td>\n",
              "      <td>0.138998</td>\n",
              "      <td>False</td>\n",
              "    </tr>\n",
              "    <tr>\n",
              "      <th>4</th>\n",
              "      <td>C4.5+m</td>\n",
              "      <td>C4.5+m+cf</td>\n",
              "      <td>0.327826</td>\n",
              "      <td>0.655651</td>\n",
              "      <td>False</td>\n",
              "    </tr>\n",
              "    <tr>\n",
              "      <th>5</th>\n",
              "      <td>C4.5+cf</td>\n",
              "      <td>C4.5+m+cf</td>\n",
              "      <td>0.022909</td>\n",
              "      <td>0.091636</td>\n",
              "      <td>False</td>\n",
              "    </tr>\n",
              "  </tbody>\n",
              "</table>\n",
              "</div>"
            ],
            "text/plain": [
              "         A          B         p  p_corrected  reject\n",
              "0     C4.5     C4.5+m  0.010757     0.064543   False\n",
              "1     C4.5    C4.5+cf  0.861262     0.861262   False\n",
              "2     C4.5  C4.5+m+cf  0.015906     0.079532   False\n",
              "3   C4.5+m    C4.5+cf  0.046333     0.138998   False\n",
              "4   C4.5+m  C4.5+m+cf  0.327826     0.655651   False\n",
              "5  C4.5+cf  C4.5+m+cf  0.022909     0.091636   False"
            ]
          },
          "metadata": {
            "tags": []
          },
          "execution_count": 13
        }
      ]
    },
    {
      "cell_type": "markdown",
      "metadata": {
        "id": "Ctojfxp9lSG7",
        "colab_type": "text"
      },
      "source": [
        "**Question 6**\n",
        "\n",
        "Сколько гипотез можно отвергнуть на уровне значимости 0.05 после поправки методом Бенджамини-Хохберга"
      ]
    },
    {
      "cell_type": "code",
      "metadata": {
        "id": "AKt4WJGhlVLI",
        "colab_type": "code",
        "colab": {
          "base_uri": "https://localhost:8080/",
          "height": 235
        },
        "outputId": "a6e69187-82f3-428b-b79b-455aa52b731f"
      },
      "source": [
        "reject, p_corrected, a1, a2 = multipletests(auc_p.p, \n",
        "                                            alpha = 0.05, \n",
        "                                            method = 'fdr_bh')\n",
        "auc_p['p_corrected'] = p_corrected\n",
        "auc_p['reject'] = reject\n",
        "auc_p"
      ],
      "execution_count": 14,
      "outputs": [
        {
          "output_type": "execute_result",
          "data": {
            "text/html": [
              "<div>\n",
              "<style scoped>\n",
              "    .dataframe tbody tr th:only-of-type {\n",
              "        vertical-align: middle;\n",
              "    }\n",
              "\n",
              "    .dataframe tbody tr th {\n",
              "        vertical-align: top;\n",
              "    }\n",
              "\n",
              "    .dataframe thead th {\n",
              "        text-align: right;\n",
              "    }\n",
              "</style>\n",
              "<table border=\"1\" class=\"dataframe\">\n",
              "  <thead>\n",
              "    <tr style=\"text-align: right;\">\n",
              "      <th></th>\n",
              "      <th>A</th>\n",
              "      <th>B</th>\n",
              "      <th>p</th>\n",
              "      <th>p_corrected</th>\n",
              "      <th>reject</th>\n",
              "    </tr>\n",
              "  </thead>\n",
              "  <tbody>\n",
              "    <tr>\n",
              "      <th>0</th>\n",
              "      <td>C4.5</td>\n",
              "      <td>C4.5+m</td>\n",
              "      <td>0.010757</td>\n",
              "      <td>0.045818</td>\n",
              "      <td>True</td>\n",
              "    </tr>\n",
              "    <tr>\n",
              "      <th>1</th>\n",
              "      <td>C4.5</td>\n",
              "      <td>C4.5+cf</td>\n",
              "      <td>0.861262</td>\n",
              "      <td>0.861262</td>\n",
              "      <td>False</td>\n",
              "    </tr>\n",
              "    <tr>\n",
              "      <th>2</th>\n",
              "      <td>C4.5</td>\n",
              "      <td>C4.5+m+cf</td>\n",
              "      <td>0.015906</td>\n",
              "      <td>0.045818</td>\n",
              "      <td>True</td>\n",
              "    </tr>\n",
              "    <tr>\n",
              "      <th>3</th>\n",
              "      <td>C4.5+m</td>\n",
              "      <td>C4.5+cf</td>\n",
              "      <td>0.046333</td>\n",
              "      <td>0.069499</td>\n",
              "      <td>False</td>\n",
              "    </tr>\n",
              "    <tr>\n",
              "      <th>4</th>\n",
              "      <td>C4.5+m</td>\n",
              "      <td>C4.5+m+cf</td>\n",
              "      <td>0.327826</td>\n",
              "      <td>0.393391</td>\n",
              "      <td>False</td>\n",
              "    </tr>\n",
              "    <tr>\n",
              "      <th>5</th>\n",
              "      <td>C4.5+cf</td>\n",
              "      <td>C4.5+m+cf</td>\n",
              "      <td>0.022909</td>\n",
              "      <td>0.045818</td>\n",
              "      <td>True</td>\n",
              "    </tr>\n",
              "  </tbody>\n",
              "</table>\n",
              "</div>"
            ],
            "text/plain": [
              "         A          B         p  p_corrected  reject\n",
              "0     C4.5     C4.5+m  0.010757     0.045818    True\n",
              "1     C4.5    C4.5+cf  0.861262     0.861262   False\n",
              "2     C4.5  C4.5+m+cf  0.015906     0.045818    True\n",
              "3   C4.5+m    C4.5+cf  0.046333     0.069499   False\n",
              "4   C4.5+m  C4.5+m+cf  0.327826     0.393391   False\n",
              "5  C4.5+cf  C4.5+m+cf  0.022909     0.045818    True"
            ]
          },
          "metadata": {
            "tags": []
          },
          "execution_count": 14
        }
      ]
    },
    {
      "cell_type": "markdown",
      "metadata": {
        "id": "maX_O_W6m_U3",
        "colab_type": "text"
      },
      "source": [
        "Прим. Некорректно, так как выборки связанные"
      ]
    }
  ]
}